{
 "cells": [
  {
   "cell_type": "code",
   "execution_count": 2,
   "metadata": {},
   "outputs": [],
   "source": [
    "import pandas as pd\n",
    "import glob, os\n",
    "from pandas.io.json import json_normalize as jn\n",
    "import itertools\n",
    "import json\n",
    "import requests"
   ]
  },
  {
   "cell_type": "code",
   "execution_count": 26,
   "metadata": {},
   "outputs": [],
   "source": [
    "path = '/Users/user/Code/football/betfair'"
   ]
  },
  {
   "cell_type": "code",
   "execution_count": 142,
   "metadata": {},
   "outputs": [],
   "source": [
    "# ALTERNATIVE\n",
    "# files_lists = [glob.glob(os.path.join(path, dir + '/*.bz2')) for dir in dirs]\n",
    "# files = list(itertools.chain(*files_lists))"
   ]
  },
  {
   "cell_type": "code",
   "execution_count": 16,
   "metadata": {},
   "outputs": [],
   "source": [
    "files = glob.glob(os.path.join(path + '/**/*.bz2'), recursive=True)"
   ]
  },
  {
   "cell_type": "code",
   "execution_count": 27,
   "metadata": {},
   "outputs": [],
   "source": [
    "files = glob.glob(os.path.join(path + '/201811M/*.bz2'))"
   ]
  },
  {
   "cell_type": "code",
   "execution_count": 31,
   "metadata": {},
   "outputs": [],
   "source": [
    "test_files = files[:10]"
   ]
  },
  {
   "cell_type": "code",
   "execution_count": 32,
   "metadata": {},
   "outputs": [
    {
     "data": {
      "text/plain": [
       "['/Users/user/Code/football/betfair/201811M/1.150748476.bz2',\n",
       " '/Users/user/Code/football/betfair/201811M/1.151432077.bz2',\n",
       " '/Users/user/Code/football/betfair/201811M/1.151734327.bz2',\n",
       " '/Users/user/Code/football/betfair/201811M/1.150466914.bz2',\n",
       " '/Users/user/Code/football/betfair/201811M/1.150443564.bz2',\n",
       " '/Users/user/Code/football/betfair/201811M/1.150203694.bz2',\n",
       " '/Users/user/Code/football/betfair/201811M/1.151140400.bz2',\n",
       " '/Users/user/Code/football/betfair/201811M/1.151301396.bz2',\n",
       " '/Users/user/Code/football/betfair/201811M/1.150924599.bz2',\n",
       " '/Users/user/Code/football/betfair/201811M/1.151289900.bz2']"
      ]
     },
     "execution_count": 32,
     "metadata": {},
     "output_type": "execute_result"
    }
   ],
   "source": [
    "test_files"
   ]
  },
  {
   "cell_type": "code",
   "execution_count": 33,
   "metadata": {},
   "outputs": [],
   "source": [
    "test_file = test_files[0]"
   ]
  },
  {
   "cell_type": "code",
   "execution_count": 80,
   "metadata": {},
   "outputs": [],
   "source": [
    "test_df = pd.read_csv(test_file, sep='\\n', header=None)"
   ]
  },
  {
   "cell_type": "code",
   "execution_count": 82,
   "metadata": {},
   "outputs": [],
   "source": [
    "test_df['try'] = test_df[0].apply(lambda x: x.split(' '))"
   ]
  },
  {
   "cell_type": "code",
   "execution_count": 83,
   "metadata": {},
   "outputs": [
    {
     "data": {
      "text/html": [
       "<div>\n",
       "<style scoped>\n",
       "    .dataframe tbody tr th:only-of-type {\n",
       "        vertical-align: middle;\n",
       "    }\n",
       "\n",
       "    .dataframe tbody tr th {\n",
       "        vertical-align: top;\n",
       "    }\n",
       "\n",
       "    .dataframe thead th {\n",
       "        text-align: right;\n",
       "    }\n",
       "</style>\n",
       "<table border=\"1\" class=\"dataframe\">\n",
       "  <thead>\n",
       "    <tr style=\"text-align: right;\">\n",
       "      <th></th>\n",
       "      <th>0</th>\n",
       "      <th>try</th>\n",
       "    </tr>\n",
       "  </thead>\n",
       "  <tbody>\n",
       "    <tr>\n",
       "      <th>0</th>\n",
       "      <td>{\"op\":\"mcm\",\"clk\":\"7914627839\",\"pt\":1541351777...</td>\n",
       "      <td>[{\"op\":\"mcm\",\"clk\":\"7914627839\",\"pt\":154135177...</td>\n",
       "    </tr>\n",
       "    <tr>\n",
       "      <th>1</th>\n",
       "      <td>{\"op\":\"mcm\",\"clk\":\"7925026417\",\"pt\":1541499893...</td>\n",
       "      <td>[{\"op\":\"mcm\",\"clk\":\"7925026417\",\"pt\":154149989...</td>\n",
       "    </tr>\n",
       "    <tr>\n",
       "      <th>2</th>\n",
       "      <td>{\"op\":\"mcm\",\"clk\":\"7926918366\",\"pt\":1541524725...</td>\n",
       "      <td>[{\"op\":\"mcm\",\"clk\":\"7926918366\",\"pt\":154152472...</td>\n",
       "    </tr>\n",
       "    <tr>\n",
       "      <th>3</th>\n",
       "      <td>{\"op\":\"mcm\",\"clk\":\"7926949070\",\"pt\":1541525289...</td>\n",
       "      <td>[{\"op\":\"mcm\",\"clk\":\"7926949070\",\"pt\":154152528...</td>\n",
       "    </tr>\n",
       "    <tr>\n",
       "      <th>4</th>\n",
       "      <td>{\"op\":\"mcm\",\"clk\":\"7927619418\",\"pt\":1541532973...</td>\n",
       "      <td>[{\"op\":\"mcm\",\"clk\":\"7927619418\",\"pt\":154153297...</td>\n",
       "    </tr>\n",
       "  </tbody>\n",
       "</table>\n",
       "</div>"
      ],
      "text/plain": [
       "                                                   0  \\\n",
       "0  {\"op\":\"mcm\",\"clk\":\"7914627839\",\"pt\":1541351777...   \n",
       "1  {\"op\":\"mcm\",\"clk\":\"7925026417\",\"pt\":1541499893...   \n",
       "2  {\"op\":\"mcm\",\"clk\":\"7926918366\",\"pt\":1541524725...   \n",
       "3  {\"op\":\"mcm\",\"clk\":\"7926949070\",\"pt\":1541525289...   \n",
       "4  {\"op\":\"mcm\",\"clk\":\"7927619418\",\"pt\":1541532973...   \n",
       "\n",
       "                                                 try  \n",
       "0  [{\"op\":\"mcm\",\"clk\":\"7914627839\",\"pt\":154135177...  \n",
       "1  [{\"op\":\"mcm\",\"clk\":\"7925026417\",\"pt\":154149989...  \n",
       "2  [{\"op\":\"mcm\",\"clk\":\"7926918366\",\"pt\":154152472...  \n",
       "3  [{\"op\":\"mcm\",\"clk\":\"7926949070\",\"pt\":154152528...  \n",
       "4  [{\"op\":\"mcm\",\"clk\":\"7927619418\",\"pt\":154153297...  "
      ]
     },
     "execution_count": 83,
     "metadata": {},
     "output_type": "execute_result"
    }
   ],
   "source": [
    "test_df.head()"
   ]
  },
  {
   "cell_type": "code",
   "execution_count": 99,
   "metadata": {},
   "outputs": [
    {
     "data": {
      "text/html": [
       "<div>\n",
       "<style scoped>\n",
       "    .dataframe tbody tr th:only-of-type {\n",
       "        vertical-align: middle;\n",
       "    }\n",
       "\n",
       "    .dataframe tbody tr th {\n",
       "        vertical-align: top;\n",
       "    }\n",
       "\n",
       "    .dataframe thead th {\n",
       "        text-align: right;\n",
       "    }\n",
       "</style>\n",
       "<table border=\"1\" class=\"dataframe\">\n",
       "  <thead>\n",
       "    <tr style=\"text-align: right;\">\n",
       "      <th></th>\n",
       "      <th>id</th>\n",
       "      <th>marketDefinition.betDelay</th>\n",
       "      <th>marketDefinition.bettingType</th>\n",
       "      <th>marketDefinition.bspMarket</th>\n",
       "      <th>marketDefinition.bspReconciled</th>\n",
       "      <th>marketDefinition.complete</th>\n",
       "      <th>marketDefinition.countryCode</th>\n",
       "      <th>marketDefinition.crossMatching</th>\n",
       "      <th>marketDefinition.discountAllowed</th>\n",
       "      <th>marketDefinition.eventId</th>\n",
       "      <th>...</th>\n",
       "      <th>marketDefinition.openDate</th>\n",
       "      <th>marketDefinition.persistenceEnabled</th>\n",
       "      <th>marketDefinition.regulators</th>\n",
       "      <th>marketDefinition.runners</th>\n",
       "      <th>marketDefinition.runnersVoidable</th>\n",
       "      <th>marketDefinition.status</th>\n",
       "      <th>marketDefinition.suspendTime</th>\n",
       "      <th>marketDefinition.timezone</th>\n",
       "      <th>marketDefinition.turnInPlayEnabled</th>\n",
       "      <th>marketDefinition.version</th>\n",
       "    </tr>\n",
       "  </thead>\n",
       "  <tbody>\n",
       "    <tr>\n",
       "      <th>0</th>\n",
       "      <td>1.150748476</td>\n",
       "      <td>0</td>\n",
       "      <td>ODDS</td>\n",
       "      <td>False</td>\n",
       "      <td>False</td>\n",
       "      <td>True</td>\n",
       "      <td>GB</td>\n",
       "      <td>True</td>\n",
       "      <td>True</td>\n",
       "      <td>28994313</td>\n",
       "      <td>...</td>\n",
       "      <td>2018-11-06T19:45:00.000Z</td>\n",
       "      <td>True</td>\n",
       "      <td>[MR_INT]</td>\n",
       "      <td>[{'status': 'ACTIVE', 'sortPriority': 1, 'id':...</td>\n",
       "      <td>False</td>\n",
       "      <td>OPEN</td>\n",
       "      <td>2018-11-06T19:45:00.000Z</td>\n",
       "      <td>Europe/London</td>\n",
       "      <td>True</td>\n",
       "      <td>2497471235</td>\n",
       "    </tr>\n",
       "  </tbody>\n",
       "</table>\n",
       "<p>1 rows × 29 columns</p>\n",
       "</div>"
      ],
      "text/plain": [
       "            id  marketDefinition.betDelay marketDefinition.bettingType  \\\n",
       "0  1.150748476                          0                         ODDS   \n",
       "\n",
       "   marketDefinition.bspMarket  marketDefinition.bspReconciled  \\\n",
       "0                       False                           False   \n",
       "\n",
       "   marketDefinition.complete marketDefinition.countryCode  \\\n",
       "0                       True                           GB   \n",
       "\n",
       "   marketDefinition.crossMatching  marketDefinition.discountAllowed  \\\n",
       "0                            True                              True   \n",
       "\n",
       "  marketDefinition.eventId           ...            marketDefinition.openDate  \\\n",
       "0                 28994313           ...             2018-11-06T19:45:00.000Z   \n",
       "\n",
       "  marketDefinition.persistenceEnabled  marketDefinition.regulators  \\\n",
       "0                                True                     [MR_INT]   \n",
       "\n",
       "                            marketDefinition.runners  \\\n",
       "0  [{'status': 'ACTIVE', 'sortPriority': 1, 'id':...   \n",
       "\n",
       "  marketDefinition.runnersVoidable marketDefinition.status  \\\n",
       "0                            False                    OPEN   \n",
       "\n",
       "  marketDefinition.suspendTime  marketDefinition.timezone  \\\n",
       "0     2018-11-06T19:45:00.000Z              Europe/London   \n",
       "\n",
       "   marketDefinition.turnInPlayEnabled marketDefinition.version  \n",
       "0                                True               2497471235  \n",
       "\n",
       "[1 rows x 29 columns]"
      ]
     },
     "execution_count": 99,
     "metadata": {},
     "output_type": "execute_result"
    }
   ],
   "source": [
    "jn(jn(json.loads(test_df[0][0]))['mc'][0])"
   ]
  },
  {
   "cell_type": "code",
   "execution_count": 48,
   "metadata": {},
   "outputs": [],
   "source": [
    "import bz2"
   ]
  },
  {
   "cell_type": "code",
   "execution_count": 49,
   "metadata": {},
   "outputs": [],
   "source": [
    "uncompressedData = bz2.BZ2File(test_file).read()"
   ]
  },
  {
   "cell_type": "code",
   "execution_count": 102,
   "metadata": {},
   "outputs": [],
   "source": [
    "uncompressedData = bz2.BZ2File('1.146375615.bz2').read()"
   ]
  },
  {
   "cell_type": "code",
   "execution_count": 103,
   "metadata": {},
   "outputs": [
    {
     "data": {
      "text/plain": [
       "b'{\"op\":\"mcm\",\"clk\":\"7113773633\",\"pt\":1533392188375,\"mc\":[{\"id\":\"1.146375615\",\"marketDefinition\":{\"bspMarket\":false,\"turnInPlayEnabled\":true,\"persistenceEnabled\":true,\"marketBaseRate\":5.0,\"eventId\":\"28828139\",\"eventTypeId\":\"1\",\"numberOfWinners\":1,\"bettingType\":\"ODDS\",\"marketType\":\"MATCH_ODDS\",\"marketTime\":\"2018-08-04T16:00:00.000Z\",\"suspendTime\":\"2018-08-04T16:00:00.000Z\",\"bspReconciled\":false,\"complete\":true,\"inPlay\":false,\"crossMatching\":true,\"runnersVoidable\":false,\"numberOfActiveRunners\":3,\"betDelay\":0,\"status\":\"OPEN\",\"runners\":[{\"status\":\"ACTIVE\",\"sortPriority\":1,\"id\":20000672,\"name\":\"TBad Gleichenberg\"},{\"status\":\"ACTIVE\",\"sortPriority\":2,\"id\":20000674,\"name\":\"SC Weiz\"},{\"status\":\"ACTIVE\",\"sortPriority\":3,\"id\":58805,\"name\":\"The Draw\"}],\"regulators\":[\"MR_INT\"],\"countryCode\":\"GB\",\"discountAllowed\":true,\"timezone\":\"GMT\",\"openDate\":\"2018-08-04T16:00:00.000Z\",\"version\":2323674984,\"name\":\"Match Odds\",\"eventName\":\"TBad Gleichenberg v Sc Weiz\"}}]}\\n{\"op\":\"mcm\",\"clk\":\"7113875052\",\"pt\":1533392684021,\"mc\":[{\"id\":\"1.146375615\",\"marketDefinition\":{\"bspMarket\":false,\"turnInPlayEnabled\":true,\"persistenceEnabled\":true,\"marketBaseRate\":5.0,\"eventId\":\"28828139\",\"eventTypeId\":\"1\",\"numberOfWinners\":1,\"bettingType\":\"ODDS\",\"marketType\":\"MATCH_ODDS\",\"marketTime\":\"2018-08-04T16:00:00.000Z\",\"suspendTime\":\"2018-08-04T16:00:00.000Z\",\"bspReconciled\":false,\"complete\":true,\"inPlay\":false,\"crossMatching\":true,\"runnersVoidable\":false,\"numberOfActiveRunners\":3,\"betDelay\":0,\"status\":\"OPEN\",\"runners\":[{\"status\":\"ACTIVE\",\"sortPriority\":1,\"id\":20000672,\"name\":\"TBad Gleichenberg\"},{\"status\":\"ACTIVE\",\"sortPriority\":2,\"id\":20000674,\"name\":\"SC Weiz\"},{\"status\":\"ACTIVE\",\"sortPriority\":3,\"id\":58805,\"name\":\"The Draw\"}],\"regulators\":[\"MR_INT\"],\"countryCode\":\"GB\",\"discountAllowed\":true,\"timezone\":\"Europe/London\",\"openDate\":\"2018-08-04T16:00:00.000Z\",\"version\":2323716903,\"name\":\"Match Odds\",\"eventName\":\"TBad Gleichenberg v Sc Weiz\"}}]}\\n{\"op\":\"mcm\",\"clk\":\"7115061746\",\"pt\":1533398409958,\"mc\":[{\"id\":\"1.146375615\",\"rc\":[{\"ltp\":2.32,\"id\":20000674}]}]}\\n{\"op\":\"mcm\",\"clk\":\"7115100318\",\"pt\":1533398690500,\"mc\":[{\"id\":\"1.146375615\",\"marketDefinition\":{\"bspMarket\":false,\"turnInPlayEnabled\":true,\"persistenceEnabled\":true,\"marketBaseRate\":5.0,\"eventId\":\"28828139\",\"eventTypeId\":\"1\",\"numberOfWinners\":1,\"bettingType\":\"ODDS\",\"marketType\":\"MATCH_ODDS\",\"marketTime\":\"2018-08-04T16:00:00.000Z\",\"suspendTime\":\"2018-08-04T16:00:00.000Z\",\"bspReconciled\":false,\"complete\":true,\"inPlay\":true,\"crossMatching\":true,\"runnersVoidable\":false,\"numberOfActiveRunners\":3,\"betDelay\":5,\"status\":\"OPEN\",\"runners\":[{\"status\":\"ACTIVE\",\"sortPriority\":1,\"id\":20000672,\"name\":\"TBad Gleichenberg\"},{\"status\":\"ACTIVE\",\"sortPriority\":2,\"id\":20000674,\"name\":\"SC Weiz\"},{\"status\":\"ACTIVE\",\"sortPriority\":3,\"id\":58805,\"name\":\"The Draw\"}],\"regulators\":[\"MR_INT\"],\"countryCode\":\"GB\",\"discountAllowed\":true,\"timezone\":\"Europe/London\",\"openDate\":\"2018-08-04T16:00:00.000Z\",\"version\":2324215194,\"name\":\"Match Odds\",\"eventName\":\"TBad Gleichenberg v Sc Weiz\"}}]}\\n{\"op\":\"mcm\",\"clk\":\"7115127097\",\"pt\":1533398866135,\"mc\":[{\"id\":\"1.146375615\",\"rc\":[{\"ltp\":2.52,\"id\":20000674}]}]}\\n{\"op\":\"mcm\",\"clk\":\"7115659851\",\"pt\":1533401875371,\"mc\":[{\"id\":\"1.146375615\",\"rc\":[{\"ltp\":1.06,\"id\":20000674}]}]}\\n{\"op\":\"mcm\",\"clk\":\"7115698317\",\"pt\":1533402174832,\"mc\":[{\"id\":\"1.146375615\",\"rc\":[{\"ltp\":1.07,\"id\":20000674}]}]}\\n{\"op\":\"mcm\",\"clk\":\"7115742880\",\"pt\":1533402475220,\"mc\":[{\"id\":\"1.146375615\",\"rc\":[{\"ltp\":140.0,\"id\":20000672},{\"ltp\":17.0,\"id\":58805}]}]}\\n{\"op\":\"mcm\",\"clk\":\"7115771533\",\"pt\":1533402647224,\"mc\":[{\"id\":\"1.146375615\",\"rc\":[{\"ltp\":11.0,\"id\":58805}]}]}\\n{\"op\":\"mcm\",\"clk\":\"7115849990\",\"pt\":1533403074382,\"mc\":[{\"id\":\"1.146375615\",\"rc\":[{\"ltp\":1.34,\"id\":20000674}]}]}\\n{\"op\":\"mcm\",\"clk\":\"7115858680\",\"pt\":1533403133360,\"mc\":[{\"id\":\"1.146375615\",\"rc\":[{\"ltp\":1.38,\"id\":20000674}]}]}\\n{\"op\":\"mcm\",\"clk\":\"7115885565\",\"pt\":1533403314423,\"mc\":[{\"id\":\"1.146375615\",\"rc\":[{\"ltp\":1.37,\"id\":20000674}]}]}\\n{\"op\":\"mcm\",\"clk\":\"7115903672\",\"pt\":1533403434638,\"mc\":[{\"id\":\"1.146375615\",\"rc\":[{\"ltp\":1.28,\"id\":20000674}]}]}\\n{\"op\":\"mcm\",\"clk\":\"7115912896\",\"pt\":1533403495676,\"mc\":[{\"id\":\"1.146375615\",\"rc\":[{\"ltp\":1.03,\"id\":20000674}]}]}\\n{\"op\":\"mcm\",\"clk\":\"7115918275\",\"pt\":1533403533296,\"mc\":[{\"id\":\"1.146375615\",\"rc\":[{\"ltp\":1.02,\"id\":20000674}]}]}\\n{\"op\":\"mcm\",\"clk\":\"7115927484\",\"pt\":1533403598355,\"mc\":[{\"id\":\"1.146375615\",\"rc\":[{\"ltp\":1.01,\"id\":20000674}]}]}\\n{\"op\":\"mcm\",\"clk\":\"7116016324\",\"pt\":1533404155156,\"mc\":[{\"id\":\"1.146375615\",\"rc\":[{\"ltp\":900.0,\"id\":20000672}]}]}\\n{\"op\":\"mcm\",\"clk\":\"7116024781\",\"pt\":1533404215072,\"mc\":[{\"id\":\"1.146375615\",\"rc\":[{\"ltp\":1000.0,\"id\":20000672}]}]}\\n{\"op\":\"mcm\",\"clk\":\"7116057140\",\"pt\":1533404451043,\"mc\":[{\"id\":\"1.146375615\",\"rc\":[{\"ltp\":1000.0,\"id\":58805}]}]}\\n{\"op\":\"mcm\",\"clk\":\"7116152692\",\"pt\":1533405115716,\"mc\":[{\"id\":\"1.146375615\",\"marketDefinition\":{\"bspMarket\":false,\"turnInPlayEnabled\":true,\"persistenceEnabled\":true,\"marketBaseRate\":5.0,\"eventId\":\"28828139\",\"eventTypeId\":\"1\",\"numberOfWinners\":1,\"bettingType\":\"ODDS\",\"marketType\":\"MATCH_ODDS\",\"marketTime\":\"2018-08-04T16:00:00.000Z\",\"suspendTime\":\"2018-08-04T16:00:00.000Z\",\"bspReconciled\":false,\"complete\":true,\"inPlay\":true,\"crossMatching\":true,\"runnersVoidable\":false,\"numberOfActiveRunners\":3,\"betDelay\":5,\"status\":\"SUSPENDED\",\"runners\":[{\"status\":\"ACTIVE\",\"sortPriority\":1,\"id\":20000672,\"name\":\"TBad Gleichenberg\"},{\"status\":\"ACTIVE\",\"sortPriority\":2,\"id\":20000674,\"name\":\"SC Weiz\"},{\"status\":\"ACTIVE\",\"sortPriority\":3,\"id\":58805,\"name\":\"The Draw\"}],\"regulators\":[\"MR_INT\"],\"countryCode\":\"GB\",\"discountAllowed\":true,\"timezone\":\"Europe/London\",\"openDate\":\"2018-08-04T16:00:00.000Z\",\"version\":2324520696,\"name\":\"Match Odds\",\"eventName\":\"TBad Gleichenberg v Sc Weiz\"}}]}\\n{\"op\":\"mcm\",\"clk\":\"7116157590\",\"pt\":1533405174538,\"mc\":[{\"id\":\"1.146375615\",\"marketDefinition\":{\"bspMarket\":false,\"turnInPlayEnabled\":true,\"persistenceEnabled\":true,\"marketBaseRate\":5.0,\"eventId\":\"28828139\",\"eventTypeId\":\"1\",\"numberOfWinners\":1,\"bettingType\":\"ODDS\",\"marketType\":\"MATCH_ODDS\",\"marketTime\":\"2018-08-04T16:00:00.000Z\",\"suspendTime\":\"2018-08-04T16:00:00.000Z\",\"bspReconciled\":false,\"complete\":true,\"inPlay\":true,\"crossMatching\":false,\"runnersVoidable\":false,\"numberOfActiveRunners\":0,\"betDelay\":5,\"status\":\"CLOSED\",\"settledTime\":\"2018-08-04T17:52:43.000Z\",\"runners\":[{\"status\":\"LOSER\",\"sortPriority\":1,\"id\":20000672,\"name\":\"TBad Gleichenberg\"},{\"status\":\"WINNER\",\"sortPriority\":2,\"id\":20000674,\"name\":\"SC Weiz\"},{\"status\":\"LOSER\",\"sortPriority\":3,\"id\":58805,\"name\":\"The Draw\"}],\"regulators\":[\"MR_INT\"],\"countryCode\":\"GB\",\"discountAllowed\":true,\"timezone\":\"Europe/London\",\"openDate\":\"2018-08-04T16:00:00.000Z\",\"version\":2324523504,\"name\":\"Match Odds\",\"eventName\":\"TBad Gleichenberg v Sc Weiz\"}}]}\\n'"
      ]
     },
     "execution_count": 103,
     "metadata": {},
     "output_type": "execute_result"
    }
   ],
   "source": [
    "uncompressedData"
   ]
  },
  {
   "cell_type": "code",
   "execution_count": null,
   "metadata": {},
   "outputs": [],
   "source": []
  },
  {
   "cell_type": "code",
   "execution_count": 55,
   "metadata": {},
   "outputs": [],
   "source": [
    "import numpy as np"
   ]
  },
  {
   "cell_type": "code",
   "execution_count": 59,
   "metadata": {},
   "outputs": [],
   "source": [
    "df = pd.DataFrame(data)"
   ]
  },
  {
   "cell_type": "code",
   "execution_count": null,
   "metadata": {},
   "outputs": [],
   "source": [
    "# Create a dtype with the binary data format and the desired column names\n",
    "dt = np.dtype([('a', 'i4'), ('b', 'i4'), ('c', 'i4'), ('d', 'f4'), ('e', 'i4'),\n",
    "               ('f', 'i4', (256,))])\n",
    "data = np.fromfile(file, dtype=dt)\n",
    "df = pd.DataFrame(data)\n",
    "\n",
    "# Or if you want to explicitly set the column names\n",
    "df = pd.DataFrame(data, columns=data.dtype.names)"
   ]
  },
  {
   "cell_type": "code",
   "execution_count": 64,
   "metadata": {},
   "outputs": [
    {
     "ename": "ValueError",
     "evalue": "Trailing data",
     "output_type": "error",
     "traceback": [
      "\u001b[0;31m---------------------------------------------------------------------------\u001b[0m",
      "\u001b[0;31mValueError\u001b[0m                                Traceback (most recent call last)",
      "\u001b[0;32m<ipython-input-64-31a919872240>\u001b[0m in \u001b[0;36m<module>\u001b[0;34m\u001b[0m\n\u001b[0;32m----> 1\u001b[0;31m \u001b[0mpd\u001b[0m\u001b[0;34m.\u001b[0m\u001b[0mread_json\u001b[0m\u001b[0;34m(\u001b[0m\u001b[0mtest_file\u001b[0m\u001b[0;34m,\u001b[0m \u001b[0mcompression\u001b[0m\u001b[0;34m=\u001b[0m\u001b[0;34m'bz2'\u001b[0m\u001b[0;34m)\u001b[0m\u001b[0;34m\u001b[0m\u001b[0;34m\u001b[0m\u001b[0m\n\u001b[0m",
      "\u001b[0;32m/anaconda3/lib/python3.6/site-packages/pandas/io/json/json.py\u001b[0m in \u001b[0;36mread_json\u001b[0;34m(path_or_buf, orient, typ, dtype, convert_axes, convert_dates, keep_default_dates, numpy, precise_float, date_unit, encoding, lines, chunksize, compression)\u001b[0m\n\u001b[1;32m    420\u001b[0m         \u001b[0;32mreturn\u001b[0m \u001b[0mjson_reader\u001b[0m\u001b[0;34m\u001b[0m\u001b[0;34m\u001b[0m\u001b[0m\n\u001b[1;32m    421\u001b[0m \u001b[0;34m\u001b[0m\u001b[0m\n\u001b[0;32m--> 422\u001b[0;31m     \u001b[0mresult\u001b[0m \u001b[0;34m=\u001b[0m \u001b[0mjson_reader\u001b[0m\u001b[0;34m.\u001b[0m\u001b[0mread\u001b[0m\u001b[0;34m(\u001b[0m\u001b[0;34m)\u001b[0m\u001b[0;34m\u001b[0m\u001b[0;34m\u001b[0m\u001b[0m\n\u001b[0m\u001b[1;32m    423\u001b[0m     \u001b[0;32mif\u001b[0m \u001b[0mshould_close\u001b[0m\u001b[0;34m:\u001b[0m\u001b[0;34m\u001b[0m\u001b[0;34m\u001b[0m\u001b[0m\n\u001b[1;32m    424\u001b[0m         \u001b[0;32mtry\u001b[0m\u001b[0;34m:\u001b[0m\u001b[0;34m\u001b[0m\u001b[0;34m\u001b[0m\u001b[0m\n",
      "\u001b[0;32m/anaconda3/lib/python3.6/site-packages/pandas/io/json/json.py\u001b[0m in \u001b[0;36mread\u001b[0;34m(self)\u001b[0m\n\u001b[1;32m    527\u001b[0m             )\n\u001b[1;32m    528\u001b[0m         \u001b[0;32melse\u001b[0m\u001b[0;34m:\u001b[0m\u001b[0;34m\u001b[0m\u001b[0;34m\u001b[0m\u001b[0m\n\u001b[0;32m--> 529\u001b[0;31m             \u001b[0mobj\u001b[0m \u001b[0;34m=\u001b[0m \u001b[0mself\u001b[0m\u001b[0;34m.\u001b[0m\u001b[0m_get_object_parser\u001b[0m\u001b[0;34m(\u001b[0m\u001b[0mself\u001b[0m\u001b[0;34m.\u001b[0m\u001b[0mdata\u001b[0m\u001b[0;34m)\u001b[0m\u001b[0;34m\u001b[0m\u001b[0;34m\u001b[0m\u001b[0m\n\u001b[0m\u001b[1;32m    530\u001b[0m         \u001b[0mself\u001b[0m\u001b[0;34m.\u001b[0m\u001b[0mclose\u001b[0m\u001b[0;34m(\u001b[0m\u001b[0;34m)\u001b[0m\u001b[0;34m\u001b[0m\u001b[0;34m\u001b[0m\u001b[0m\n\u001b[1;32m    531\u001b[0m         \u001b[0;32mreturn\u001b[0m \u001b[0mobj\u001b[0m\u001b[0;34m\u001b[0m\u001b[0;34m\u001b[0m\u001b[0m\n",
      "\u001b[0;32m/anaconda3/lib/python3.6/site-packages/pandas/io/json/json.py\u001b[0m in \u001b[0;36m_get_object_parser\u001b[0;34m(self, json)\u001b[0m\n\u001b[1;32m    544\u001b[0m         \u001b[0mobj\u001b[0m \u001b[0;34m=\u001b[0m \u001b[0;32mNone\u001b[0m\u001b[0;34m\u001b[0m\u001b[0;34m\u001b[0m\u001b[0m\n\u001b[1;32m    545\u001b[0m         \u001b[0;32mif\u001b[0m \u001b[0mtyp\u001b[0m \u001b[0;34m==\u001b[0m \u001b[0;34m'frame'\u001b[0m\u001b[0;34m:\u001b[0m\u001b[0;34m\u001b[0m\u001b[0;34m\u001b[0m\u001b[0m\n\u001b[0;32m--> 546\u001b[0;31m             \u001b[0mobj\u001b[0m \u001b[0;34m=\u001b[0m \u001b[0mFrameParser\u001b[0m\u001b[0;34m(\u001b[0m\u001b[0mjson\u001b[0m\u001b[0;34m,\u001b[0m \u001b[0;34m**\u001b[0m\u001b[0mkwargs\u001b[0m\u001b[0;34m)\u001b[0m\u001b[0;34m.\u001b[0m\u001b[0mparse\u001b[0m\u001b[0;34m(\u001b[0m\u001b[0;34m)\u001b[0m\u001b[0;34m\u001b[0m\u001b[0;34m\u001b[0m\u001b[0m\n\u001b[0m\u001b[1;32m    547\u001b[0m \u001b[0;34m\u001b[0m\u001b[0m\n\u001b[1;32m    548\u001b[0m         \u001b[0;32mif\u001b[0m \u001b[0mtyp\u001b[0m \u001b[0;34m==\u001b[0m \u001b[0;34m'series'\u001b[0m \u001b[0;32mor\u001b[0m \u001b[0mobj\u001b[0m \u001b[0;32mis\u001b[0m \u001b[0;32mNone\u001b[0m\u001b[0;34m:\u001b[0m\u001b[0;34m\u001b[0m\u001b[0;34m\u001b[0m\u001b[0m\n",
      "\u001b[0;32m/anaconda3/lib/python3.6/site-packages/pandas/io/json/json.py\u001b[0m in \u001b[0;36mparse\u001b[0;34m(self)\u001b[0m\n\u001b[1;32m    636\u001b[0m \u001b[0;34m\u001b[0m\u001b[0m\n\u001b[1;32m    637\u001b[0m         \u001b[0;32melse\u001b[0m\u001b[0;34m:\u001b[0m\u001b[0;34m\u001b[0m\u001b[0;34m\u001b[0m\u001b[0m\n\u001b[0;32m--> 638\u001b[0;31m             \u001b[0mself\u001b[0m\u001b[0;34m.\u001b[0m\u001b[0m_parse_no_numpy\u001b[0m\u001b[0;34m(\u001b[0m\u001b[0;34m)\u001b[0m\u001b[0;34m\u001b[0m\u001b[0;34m\u001b[0m\u001b[0m\n\u001b[0m\u001b[1;32m    639\u001b[0m \u001b[0;34m\u001b[0m\u001b[0m\n\u001b[1;32m    640\u001b[0m         \u001b[0;32mif\u001b[0m \u001b[0mself\u001b[0m\u001b[0;34m.\u001b[0m\u001b[0mobj\u001b[0m \u001b[0;32mis\u001b[0m \u001b[0;32mNone\u001b[0m\u001b[0;34m:\u001b[0m\u001b[0;34m\u001b[0m\u001b[0;34m\u001b[0m\u001b[0m\n",
      "\u001b[0;32m/anaconda3/lib/python3.6/site-packages/pandas/io/json/json.py\u001b[0m in \u001b[0;36m_parse_no_numpy\u001b[0;34m(self)\u001b[0m\n\u001b[1;32m    851\u001b[0m         \u001b[0;32mif\u001b[0m \u001b[0morient\u001b[0m \u001b[0;34m==\u001b[0m \u001b[0;34m\"columns\"\u001b[0m\u001b[0;34m:\u001b[0m\u001b[0;34m\u001b[0m\u001b[0;34m\u001b[0m\u001b[0m\n\u001b[1;32m    852\u001b[0m             self.obj = DataFrame(\n\u001b[0;32m--> 853\u001b[0;31m                 loads(json, precise_float=self.precise_float), dtype=None)\n\u001b[0m\u001b[1;32m    854\u001b[0m         \u001b[0;32melif\u001b[0m \u001b[0morient\u001b[0m \u001b[0;34m==\u001b[0m \u001b[0;34m\"split\"\u001b[0m\u001b[0;34m:\u001b[0m\u001b[0;34m\u001b[0m\u001b[0;34m\u001b[0m\u001b[0m\n\u001b[1;32m    855\u001b[0m             decoded = {str(k): v for k, v in compat.iteritems(\n",
      "\u001b[0;31mValueError\u001b[0m: Trailing data"
     ]
    }
   ],
   "source": [
    "pd.read_json(test_file, compression='bz2')"
   ]
  },
  {
   "cell_type": "code",
   "execution_count": 40,
   "metadata": {},
   "outputs": [
    {
     "ename": "ParserError",
     "evalue": "Error tokenizing data. C error: Expected 43 fields in line 29, saw 44\n",
     "output_type": "error",
     "traceback": [
      "\u001b[0;31m---------------------------------------------------------------------------\u001b[0m",
      "\u001b[0;31mParserError\u001b[0m                               Traceback (most recent call last)",
      "\u001b[0;32m<ipython-input-40-cf3cac9d474d>\u001b[0m in \u001b[0;36m<module>\u001b[0;34m\u001b[0m\n\u001b[0;32m----> 1\u001b[0;31m \u001b[0mpd\u001b[0m\u001b[0;34m.\u001b[0m\u001b[0mread_csv\u001b[0m\u001b[0;34m(\u001b[0m\u001b[0mtest_file\u001b[0m\u001b[0;34m,\u001b[0m \u001b[0mheader\u001b[0m\u001b[0;34m=\u001b[0m\u001b[0;32mNone\u001b[0m\u001b[0;34m,\u001b[0m \u001b[0mcompression\u001b[0m\u001b[0;34m=\u001b[0m\u001b[0;34m'bz2'\u001b[0m\u001b[0;34m)\u001b[0m\u001b[0;34m\u001b[0m\u001b[0;34m\u001b[0m\u001b[0m\n\u001b[0m",
      "\u001b[0;32m/anaconda3/lib/python3.6/site-packages/pandas/io/parsers.py\u001b[0m in \u001b[0;36mparser_f\u001b[0;34m(filepath_or_buffer, sep, delimiter, header, names, index_col, usecols, squeeze, prefix, mangle_dupe_cols, dtype, engine, converters, true_values, false_values, skipinitialspace, skiprows, nrows, na_values, keep_default_na, na_filter, verbose, skip_blank_lines, parse_dates, infer_datetime_format, keep_date_col, date_parser, dayfirst, iterator, chunksize, compression, thousands, decimal, lineterminator, quotechar, quoting, escapechar, comment, encoding, dialect, tupleize_cols, error_bad_lines, warn_bad_lines, skipfooter, doublequote, delim_whitespace, low_memory, memory_map, float_precision)\u001b[0m\n\u001b[1;32m    676\u001b[0m                     skip_blank_lines=skip_blank_lines)\n\u001b[1;32m    677\u001b[0m \u001b[0;34m\u001b[0m\u001b[0m\n\u001b[0;32m--> 678\u001b[0;31m         \u001b[0;32mreturn\u001b[0m \u001b[0m_read\u001b[0m\u001b[0;34m(\u001b[0m\u001b[0mfilepath_or_buffer\u001b[0m\u001b[0;34m,\u001b[0m \u001b[0mkwds\u001b[0m\u001b[0;34m)\u001b[0m\u001b[0;34m\u001b[0m\u001b[0;34m\u001b[0m\u001b[0m\n\u001b[0m\u001b[1;32m    679\u001b[0m \u001b[0;34m\u001b[0m\u001b[0m\n\u001b[1;32m    680\u001b[0m     \u001b[0mparser_f\u001b[0m\u001b[0;34m.\u001b[0m\u001b[0m__name__\u001b[0m \u001b[0;34m=\u001b[0m \u001b[0mname\u001b[0m\u001b[0;34m\u001b[0m\u001b[0;34m\u001b[0m\u001b[0m\n",
      "\u001b[0;32m/anaconda3/lib/python3.6/site-packages/pandas/io/parsers.py\u001b[0m in \u001b[0;36m_read\u001b[0;34m(filepath_or_buffer, kwds)\u001b[0m\n\u001b[1;32m    444\u001b[0m \u001b[0;34m\u001b[0m\u001b[0m\n\u001b[1;32m    445\u001b[0m     \u001b[0;32mtry\u001b[0m\u001b[0;34m:\u001b[0m\u001b[0;34m\u001b[0m\u001b[0;34m\u001b[0m\u001b[0m\n\u001b[0;32m--> 446\u001b[0;31m         \u001b[0mdata\u001b[0m \u001b[0;34m=\u001b[0m \u001b[0mparser\u001b[0m\u001b[0;34m.\u001b[0m\u001b[0mread\u001b[0m\u001b[0;34m(\u001b[0m\u001b[0mnrows\u001b[0m\u001b[0;34m)\u001b[0m\u001b[0;34m\u001b[0m\u001b[0;34m\u001b[0m\u001b[0m\n\u001b[0m\u001b[1;32m    447\u001b[0m     \u001b[0;32mfinally\u001b[0m\u001b[0;34m:\u001b[0m\u001b[0;34m\u001b[0m\u001b[0;34m\u001b[0m\u001b[0m\n\u001b[1;32m    448\u001b[0m         \u001b[0mparser\u001b[0m\u001b[0;34m.\u001b[0m\u001b[0mclose\u001b[0m\u001b[0;34m(\u001b[0m\u001b[0;34m)\u001b[0m\u001b[0;34m\u001b[0m\u001b[0;34m\u001b[0m\u001b[0m\n",
      "\u001b[0;32m/anaconda3/lib/python3.6/site-packages/pandas/io/parsers.py\u001b[0m in \u001b[0;36mread\u001b[0;34m(self, nrows)\u001b[0m\n\u001b[1;32m   1034\u001b[0m                 \u001b[0;32mraise\u001b[0m \u001b[0mValueError\u001b[0m\u001b[0;34m(\u001b[0m\u001b[0;34m'skipfooter not supported for iteration'\u001b[0m\u001b[0;34m)\u001b[0m\u001b[0;34m\u001b[0m\u001b[0;34m\u001b[0m\u001b[0m\n\u001b[1;32m   1035\u001b[0m \u001b[0;34m\u001b[0m\u001b[0m\n\u001b[0;32m-> 1036\u001b[0;31m         \u001b[0mret\u001b[0m \u001b[0;34m=\u001b[0m \u001b[0mself\u001b[0m\u001b[0;34m.\u001b[0m\u001b[0m_engine\u001b[0m\u001b[0;34m.\u001b[0m\u001b[0mread\u001b[0m\u001b[0;34m(\u001b[0m\u001b[0mnrows\u001b[0m\u001b[0;34m)\u001b[0m\u001b[0;34m\u001b[0m\u001b[0;34m\u001b[0m\u001b[0m\n\u001b[0m\u001b[1;32m   1037\u001b[0m \u001b[0;34m\u001b[0m\u001b[0m\n\u001b[1;32m   1038\u001b[0m         \u001b[0;31m# May alter columns / col_dict\u001b[0m\u001b[0;34m\u001b[0m\u001b[0;34m\u001b[0m\u001b[0;34m\u001b[0m\u001b[0m\n",
      "\u001b[0;32m/anaconda3/lib/python3.6/site-packages/pandas/io/parsers.py\u001b[0m in \u001b[0;36mread\u001b[0;34m(self, nrows)\u001b[0m\n\u001b[1;32m   1846\u001b[0m     \u001b[0;32mdef\u001b[0m \u001b[0mread\u001b[0m\u001b[0;34m(\u001b[0m\u001b[0mself\u001b[0m\u001b[0;34m,\u001b[0m \u001b[0mnrows\u001b[0m\u001b[0;34m=\u001b[0m\u001b[0;32mNone\u001b[0m\u001b[0;34m)\u001b[0m\u001b[0;34m:\u001b[0m\u001b[0;34m\u001b[0m\u001b[0;34m\u001b[0m\u001b[0m\n\u001b[1;32m   1847\u001b[0m         \u001b[0;32mtry\u001b[0m\u001b[0;34m:\u001b[0m\u001b[0;34m\u001b[0m\u001b[0;34m\u001b[0m\u001b[0m\n\u001b[0;32m-> 1848\u001b[0;31m             \u001b[0mdata\u001b[0m \u001b[0;34m=\u001b[0m \u001b[0mself\u001b[0m\u001b[0;34m.\u001b[0m\u001b[0m_reader\u001b[0m\u001b[0;34m.\u001b[0m\u001b[0mread\u001b[0m\u001b[0;34m(\u001b[0m\u001b[0mnrows\u001b[0m\u001b[0;34m)\u001b[0m\u001b[0;34m\u001b[0m\u001b[0;34m\u001b[0m\u001b[0m\n\u001b[0m\u001b[1;32m   1849\u001b[0m         \u001b[0;32mexcept\u001b[0m \u001b[0mStopIteration\u001b[0m\u001b[0;34m:\u001b[0m\u001b[0;34m\u001b[0m\u001b[0;34m\u001b[0m\u001b[0m\n\u001b[1;32m   1850\u001b[0m             \u001b[0;32mif\u001b[0m \u001b[0mself\u001b[0m\u001b[0;34m.\u001b[0m\u001b[0m_first_chunk\u001b[0m\u001b[0;34m:\u001b[0m\u001b[0;34m\u001b[0m\u001b[0;34m\u001b[0m\u001b[0m\n",
      "\u001b[0;32mpandas/_libs/parsers.pyx\u001b[0m in \u001b[0;36mpandas._libs.parsers.TextReader.read\u001b[0;34m()\u001b[0m\n",
      "\u001b[0;32mpandas/_libs/parsers.pyx\u001b[0m in \u001b[0;36mpandas._libs.parsers.TextReader._read_low_memory\u001b[0;34m()\u001b[0m\n",
      "\u001b[0;32mpandas/_libs/parsers.pyx\u001b[0m in \u001b[0;36mpandas._libs.parsers.TextReader._read_rows\u001b[0;34m()\u001b[0m\n",
      "\u001b[0;32mpandas/_libs/parsers.pyx\u001b[0m in \u001b[0;36mpandas._libs.parsers.TextReader._tokenize_rows\u001b[0;34m()\u001b[0m\n",
      "\u001b[0;32mpandas/_libs/parsers.pyx\u001b[0m in \u001b[0;36mpandas._libs.parsers.raise_parser_error\u001b[0;34m()\u001b[0m\n",
      "\u001b[0;31mParserError\u001b[0m: Error tokenizing data. C error: Expected 43 fields in line 29, saw 44\n"
     ]
    }
   ],
   "source": [
    "pd.read_csv(test_file, header=None, compression='bz2')"
   ]
  },
  {
   "cell_type": "code",
   "execution_count": 15,
   "metadata": {
    "scrolled": true
   },
   "outputs": [
    {
     "ename": "NameError",
     "evalue": "name 'file' is not defined",
     "output_type": "error",
     "traceback": [
      "\u001b[0;31m---------------------------------------------------------------------------\u001b[0m",
      "\u001b[0;31mNameError\u001b[0m                                 Traceback (most recent call last)",
      "\u001b[0;32m<ipython-input-15-4b133e60f0b6>\u001b[0m in \u001b[0;36m<module>\u001b[0;34m\u001b[0m\n\u001b[0;32m----> 1\u001b[0;31m \u001b[0mtest\u001b[0m \u001b[0;34m=\u001b[0m \u001b[0mpd\u001b[0m\u001b[0;34m.\u001b[0m\u001b[0mread_csv\u001b[0m\u001b[0;34m(\u001b[0m\u001b[0mfile\u001b[0m\u001b[0;34m[\u001b[0m\u001b[0;36m0\u001b[0m\u001b[0;34m]\u001b[0m\u001b[0;34m,\u001b[0m \u001b[0msep\u001b[0m\u001b[0;34m=\u001b[0m\u001b[0;34m'\\n'\u001b[0m\u001b[0;34m,\u001b[0m \u001b[0mheader\u001b[0m\u001b[0;34m=\u001b[0m\u001b[0;32mNone\u001b[0m\u001b[0;34m)\u001b[0m\u001b[0;34m\u001b[0m\u001b[0;34m\u001b[0m\u001b[0m\n\u001b[0m",
      "\u001b[0;31mNameError\u001b[0m: name 'file' is not defined"
     ]
    }
   ],
   "source": [
    "test = pd.read_csv(file[0], sep='\\n', header=None)"
   ]
  },
  {
   "cell_type": "code",
   "execution_count": 13,
   "metadata": {},
   "outputs": [
    {
     "ename": "NameError",
     "evalue": "name 'test' is not defined",
     "output_type": "error",
     "traceback": [
      "\u001b[0;31m---------------------------------------------------------------------------\u001b[0m",
      "\u001b[0;31mNameError\u001b[0m                                 Traceback (most recent call last)",
      "\u001b[0;32m<ipython-input-13-1c6b4cd2d1e2>\u001b[0m in \u001b[0;36m<module>\u001b[0;34m\u001b[0m\n\u001b[0;32m----> 1\u001b[0;31m \u001b[0mjson\u001b[0m\u001b[0;34m.\u001b[0m\u001b[0mloads\u001b[0m\u001b[0;34m(\u001b[0m\u001b[0mtest\u001b[0m\u001b[0;34m[\u001b[0m\u001b[0;36m0\u001b[0m\u001b[0;34m]\u001b[0m\u001b[0;34m[\u001b[0m\u001b[0;36m0\u001b[0m\u001b[0;34m]\u001b[0m\u001b[0;34m)\u001b[0m\u001b[0;34m\u001b[0m\u001b[0;34m\u001b[0m\u001b[0m\n\u001b[0m",
      "\u001b[0;31mNameError\u001b[0m: name 'test' is not defined"
     ]
    }
   ],
   "source": [
    "json.loads(test[0][0])"
   ]
  },
  {
   "cell_type": "code",
   "execution_count": 61,
   "metadata": {},
   "outputs": [
    {
     "ename": "ValueError",
     "evalue": "Invalid file path or buffer object type: <class 'list'>",
     "output_type": "error",
     "traceback": [
      "\u001b[0;31m---------------------------------------------------------------------------\u001b[0m",
      "\u001b[0;31mValueError\u001b[0m                                Traceback (most recent call last)",
      "\u001b[0;32m<ipython-input-61-2778150af8a1>\u001b[0m in \u001b[0;36m<module>\u001b[0;34m\u001b[0m\n\u001b[0;32m----> 1\u001b[0;31m \u001b[0mdf\u001b[0m \u001b[0;34m=\u001b[0m \u001b[0mpd\u001b[0m\u001b[0;34m.\u001b[0m\u001b[0mconcat\u001b[0m\u001b[0;34m(\u001b[0m\u001b[0mmap\u001b[0m\u001b[0;34m(\u001b[0m\u001b[0mpd\u001b[0m\u001b[0;34m.\u001b[0m\u001b[0mread_csv\u001b[0m\u001b[0;34m,\u001b[0m \u001b[0mfiles\u001b[0m\u001b[0;34m)\u001b[0m\u001b[0;34m)\u001b[0m\u001b[0;34m\u001b[0m\u001b[0;34m\u001b[0m\u001b[0m\n\u001b[0m",
      "\u001b[0;32m/anaconda3/lib/python3.6/site-packages/pandas/core/reshape/concat.py\u001b[0m in \u001b[0;36mconcat\u001b[0;34m(objs, axis, join, join_axes, ignore_index, keys, levels, names, verify_integrity, sort, copy)\u001b[0m\n\u001b[1;32m    223\u001b[0m                        \u001b[0mkeys\u001b[0m\u001b[0;34m=\u001b[0m\u001b[0mkeys\u001b[0m\u001b[0;34m,\u001b[0m \u001b[0mlevels\u001b[0m\u001b[0;34m=\u001b[0m\u001b[0mlevels\u001b[0m\u001b[0;34m,\u001b[0m \u001b[0mnames\u001b[0m\u001b[0;34m=\u001b[0m\u001b[0mnames\u001b[0m\u001b[0;34m,\u001b[0m\u001b[0;34m\u001b[0m\u001b[0;34m\u001b[0m\u001b[0m\n\u001b[1;32m    224\u001b[0m                        \u001b[0mverify_integrity\u001b[0m\u001b[0;34m=\u001b[0m\u001b[0mverify_integrity\u001b[0m\u001b[0;34m,\u001b[0m\u001b[0;34m\u001b[0m\u001b[0;34m\u001b[0m\u001b[0m\n\u001b[0;32m--> 225\u001b[0;31m                        copy=copy, sort=sort)\n\u001b[0m\u001b[1;32m    226\u001b[0m     \u001b[0;32mreturn\u001b[0m \u001b[0mop\u001b[0m\u001b[0;34m.\u001b[0m\u001b[0mget_result\u001b[0m\u001b[0;34m(\u001b[0m\u001b[0;34m)\u001b[0m\u001b[0;34m\u001b[0m\u001b[0;34m\u001b[0m\u001b[0m\n\u001b[1;32m    227\u001b[0m \u001b[0;34m\u001b[0m\u001b[0m\n",
      "\u001b[0;32m/anaconda3/lib/python3.6/site-packages/pandas/core/reshape/concat.py\u001b[0m in \u001b[0;36m__init__\u001b[0;34m(self, objs, axis, join, join_axes, keys, levels, names, ignore_index, verify_integrity, copy, sort)\u001b[0m\n\u001b[1;32m    254\u001b[0m             \u001b[0mobjs\u001b[0m \u001b[0;34m=\u001b[0m \u001b[0;34m[\u001b[0m\u001b[0mobjs\u001b[0m\u001b[0;34m[\u001b[0m\u001b[0mk\u001b[0m\u001b[0;34m]\u001b[0m \u001b[0;32mfor\u001b[0m \u001b[0mk\u001b[0m \u001b[0;32min\u001b[0m \u001b[0mkeys\u001b[0m\u001b[0;34m]\u001b[0m\u001b[0;34m\u001b[0m\u001b[0;34m\u001b[0m\u001b[0m\n\u001b[1;32m    255\u001b[0m         \u001b[0;32melse\u001b[0m\u001b[0;34m:\u001b[0m\u001b[0;34m\u001b[0m\u001b[0;34m\u001b[0m\u001b[0m\n\u001b[0;32m--> 256\u001b[0;31m             \u001b[0mobjs\u001b[0m \u001b[0;34m=\u001b[0m \u001b[0mlist\u001b[0m\u001b[0;34m(\u001b[0m\u001b[0mobjs\u001b[0m\u001b[0;34m)\u001b[0m\u001b[0;34m\u001b[0m\u001b[0;34m\u001b[0m\u001b[0m\n\u001b[0m\u001b[1;32m    257\u001b[0m \u001b[0;34m\u001b[0m\u001b[0m\n\u001b[1;32m    258\u001b[0m         \u001b[0;32mif\u001b[0m \u001b[0mlen\u001b[0m\u001b[0;34m(\u001b[0m\u001b[0mobjs\u001b[0m\u001b[0;34m)\u001b[0m \u001b[0;34m==\u001b[0m \u001b[0;36m0\u001b[0m\u001b[0;34m:\u001b[0m\u001b[0;34m\u001b[0m\u001b[0;34m\u001b[0m\u001b[0m\n",
      "\u001b[0;32m/anaconda3/lib/python3.6/site-packages/pandas/io/parsers.py\u001b[0m in \u001b[0;36mparser_f\u001b[0;34m(filepath_or_buffer, sep, delimiter, header, names, index_col, usecols, squeeze, prefix, mangle_dupe_cols, dtype, engine, converters, true_values, false_values, skipinitialspace, skiprows, nrows, na_values, keep_default_na, na_filter, verbose, skip_blank_lines, parse_dates, infer_datetime_format, keep_date_col, date_parser, dayfirst, iterator, chunksize, compression, thousands, decimal, lineterminator, quotechar, quoting, escapechar, comment, encoding, dialect, tupleize_cols, error_bad_lines, warn_bad_lines, skipfooter, doublequote, delim_whitespace, low_memory, memory_map, float_precision)\u001b[0m\n\u001b[1;32m    676\u001b[0m                     skip_blank_lines=skip_blank_lines)\n\u001b[1;32m    677\u001b[0m \u001b[0;34m\u001b[0m\u001b[0m\n\u001b[0;32m--> 678\u001b[0;31m         \u001b[0;32mreturn\u001b[0m \u001b[0m_read\u001b[0m\u001b[0;34m(\u001b[0m\u001b[0mfilepath_or_buffer\u001b[0m\u001b[0;34m,\u001b[0m \u001b[0mkwds\u001b[0m\u001b[0;34m)\u001b[0m\u001b[0;34m\u001b[0m\u001b[0;34m\u001b[0m\u001b[0m\n\u001b[0m\u001b[1;32m    679\u001b[0m \u001b[0;34m\u001b[0m\u001b[0m\n\u001b[1;32m    680\u001b[0m     \u001b[0mparser_f\u001b[0m\u001b[0;34m.\u001b[0m\u001b[0m__name__\u001b[0m \u001b[0;34m=\u001b[0m \u001b[0mname\u001b[0m\u001b[0;34m\u001b[0m\u001b[0;34m\u001b[0m\u001b[0m\n",
      "\u001b[0;32m/anaconda3/lib/python3.6/site-packages/pandas/io/parsers.py\u001b[0m in \u001b[0;36m_read\u001b[0;34m(filepath_or_buffer, kwds)\u001b[0m\n\u001b[1;32m    422\u001b[0m     \u001b[0mcompression\u001b[0m \u001b[0;34m=\u001b[0m \u001b[0m_infer_compression\u001b[0m\u001b[0;34m(\u001b[0m\u001b[0mfilepath_or_buffer\u001b[0m\u001b[0;34m,\u001b[0m \u001b[0mcompression\u001b[0m\u001b[0;34m)\u001b[0m\u001b[0;34m\u001b[0m\u001b[0;34m\u001b[0m\u001b[0m\n\u001b[1;32m    423\u001b[0m     filepath_or_buffer, _, compression, should_close = get_filepath_or_buffer(\n\u001b[0;32m--> 424\u001b[0;31m         filepath_or_buffer, encoding, compression)\n\u001b[0m\u001b[1;32m    425\u001b[0m     \u001b[0mkwds\u001b[0m\u001b[0;34m[\u001b[0m\u001b[0;34m'compression'\u001b[0m\u001b[0;34m]\u001b[0m \u001b[0;34m=\u001b[0m \u001b[0mcompression\u001b[0m\u001b[0;34m\u001b[0m\u001b[0;34m\u001b[0m\u001b[0m\n\u001b[1;32m    426\u001b[0m \u001b[0;34m\u001b[0m\u001b[0m\n",
      "\u001b[0;32m/anaconda3/lib/python3.6/site-packages/pandas/io/common.py\u001b[0m in \u001b[0;36mget_filepath_or_buffer\u001b[0;34m(filepath_or_buffer, encoding, compression, mode)\u001b[0m\n\u001b[1;32m    216\u001b[0m     \u001b[0;32mif\u001b[0m \u001b[0;32mnot\u001b[0m \u001b[0mis_file_like\u001b[0m\u001b[0;34m(\u001b[0m\u001b[0mfilepath_or_buffer\u001b[0m\u001b[0;34m)\u001b[0m\u001b[0;34m:\u001b[0m\u001b[0;34m\u001b[0m\u001b[0;34m\u001b[0m\u001b[0m\n\u001b[1;32m    217\u001b[0m         \u001b[0mmsg\u001b[0m \u001b[0;34m=\u001b[0m \u001b[0;34m\"Invalid file path or buffer object type: {_type}\"\u001b[0m\u001b[0;34m\u001b[0m\u001b[0;34m\u001b[0m\u001b[0m\n\u001b[0;32m--> 218\u001b[0;31m         \u001b[0;32mraise\u001b[0m \u001b[0mValueError\u001b[0m\u001b[0;34m(\u001b[0m\u001b[0mmsg\u001b[0m\u001b[0;34m.\u001b[0m\u001b[0mformat\u001b[0m\u001b[0;34m(\u001b[0m\u001b[0m_type\u001b[0m\u001b[0;34m=\u001b[0m\u001b[0mtype\u001b[0m\u001b[0;34m(\u001b[0m\u001b[0mfilepath_or_buffer\u001b[0m\u001b[0;34m)\u001b[0m\u001b[0;34m)\u001b[0m\u001b[0;34m)\u001b[0m\u001b[0;34m\u001b[0m\u001b[0;34m\u001b[0m\u001b[0m\n\u001b[0m\u001b[1;32m    219\u001b[0m \u001b[0;34m\u001b[0m\u001b[0m\n\u001b[1;32m    220\u001b[0m     \u001b[0;32mreturn\u001b[0m \u001b[0mfilepath_or_buffer\u001b[0m\u001b[0;34m,\u001b[0m \u001b[0;32mNone\u001b[0m\u001b[0;34m,\u001b[0m \u001b[0mcompression\u001b[0m\u001b[0;34m,\u001b[0m \u001b[0;32mFalse\u001b[0m\u001b[0;34m\u001b[0m\u001b[0;34m\u001b[0m\u001b[0m\n",
      "\u001b[0;31mValueError\u001b[0m: Invalid file path or buffer object type: <class 'list'>"
     ]
    }
   ],
   "source": [
    "df = pd.concat(map(pd.read_csv, glob.glob(os.path.join('~/Users/user/Desktop/data/xds/historic/BASIC/', \"*.bz2\"))))"
   ]
  },
  {
   "cell_type": "code",
   "execution_count": 44,
   "metadata": {},
   "outputs": [
    {
     "data": {
      "text/html": [
       "<div>\n",
       "<style scoped>\n",
       "    .dataframe tbody tr th:only-of-type {\n",
       "        vertical-align: middle;\n",
       "    }\n",
       "\n",
       "    .dataframe tbody tr th {\n",
       "        vertical-align: top;\n",
       "    }\n",
       "\n",
       "    .dataframe thead th {\n",
       "        text-align: right;\n",
       "    }\n",
       "</style>\n",
       "<table border=\"1\" class=\"dataframe\">\n",
       "  <thead>\n",
       "    <tr style=\"text-align: right;\">\n",
       "      <th></th>\n",
       "      <th>{\"op\":\"mcm\",\"clk\":\"640647816\",\"pt\":1430338452167,\"mc\":[{\"id\":\"1.118390406\",\"marketDefinition\":{\"bspMarket\":false,\"turnInPlayEnabled\":false,\"persistenceEnabled\":true,\"marketBaseRate\":5.0,\"eventId\":\"27427374\",\"eventTypeId\":\"1\",\"numberOfWinners\":1,\"bettingType\":\"ODDS\",\"marketType\":\"MATCH_ODDS\",\"marketTime\":\"2015-04-30T17:00:00.000Z\",\"suspendTime\":\"2015-04-30T17:00:00.000Z\",\"bspReconciled\":false,\"complete\":true,\"inPlay\":false,\"crossMatching\":true,\"runnersVoidable\":false,\"numberOfActiveRunners\":3,\"betDelay\":0,\"status\":\"OPEN\",\"runners\":[{\"status\":\"ACTIVE\",\"sortPriority\":1,\"id\":579439,\"name\":\"Brabrand\"},{\"status\":\"ACTIVE\",\"sortPriority\":2,\"id\":4886887,\"name\":\"Middelfart\"},{\"status\":\"ACTIVE\",\"sortPriority\":3,\"id\":58805,\"name\":\"The Draw\"}],\"regulators\":[\"MR_INT\"],\"countryCode\":\"DK\",\"discountAllowed\":true,\"timezone\":\"Europe/London\",\"openDate\":\"2015-04-30T17:00:00.000Z\",\"version\":966296765,\"name\":\"Match Odds\",\"eventName\":\"Brabrand v Middelfart\"}}]}</th>\n",
       "    </tr>\n",
       "  </thead>\n",
       "  <tbody>\n",
       "    <tr>\n",
       "      <th>0</th>\n",
       "      <td>{\"op\":\"mcm\",\"clk\":\"640931146\",\"pt\":14303417671...</td>\n",
       "    </tr>\n",
       "    <tr>\n",
       "      <th>1</th>\n",
       "      <td>{\"op\":\"mcm\",\"clk\":\"641780997\",\"pt\":14303595189...</td>\n",
       "    </tr>\n",
       "    <tr>\n",
       "      <th>2</th>\n",
       "      <td>{\"op\":\"mcm\",\"clk\":\"644018648\",\"pt\":14304067792...</td>\n",
       "    </tr>\n",
       "    <tr>\n",
       "      <th>3</th>\n",
       "      <td>{\"op\":\"mcm\",\"clk\":\"644247721\",\"pt\":14304089699...</td>\n",
       "    </tr>\n",
       "    <tr>\n",
       "      <th>4</th>\n",
       "      <td>{\"op\":\"mcm\",\"clk\":\"644456150\",\"pt\":14304110439...</td>\n",
       "    </tr>\n",
       "    <tr>\n",
       "      <th>5</th>\n",
       "      <td>{\"op\":\"mcm\",\"clk\":\"644477405\",\"pt\":14304113155...</td>\n",
       "    </tr>\n",
       "    <tr>\n",
       "      <th>6</th>\n",
       "      <td>{\"op\":\"mcm\",\"clk\":\"644574270\",\"pt\":14304122494...</td>\n",
       "    </tr>\n",
       "    <tr>\n",
       "      <th>7</th>\n",
       "      <td>{\"op\":\"mcm\",\"clk\":\"644676103\",\"pt\":14304132087...</td>\n",
       "    </tr>\n",
       "    <tr>\n",
       "      <th>8</th>\n",
       "      <td>{\"op\":\"mcm\",\"clk\":\"645522183\",\"pt\":14304199446...</td>\n",
       "    </tr>\n",
       "  </tbody>\n",
       "</table>\n",
       "</div>"
      ],
      "text/plain": [
       "  {\"op\":\"mcm\",\"clk\":\"640647816\",\"pt\":1430338452167,\"mc\":[{\"id\":\"1.118390406\",\"marketDefinition\":{\"bspMarket\":false,\"turnInPlayEnabled\":false,\"persistenceEnabled\":true,\"marketBaseRate\":5.0,\"eventId\":\"27427374\",\"eventTypeId\":\"1\",\"numberOfWinners\":1,\"bettingType\":\"ODDS\",\"marketType\":\"MATCH_ODDS\",\"marketTime\":\"2015-04-30T17:00:00.000Z\",\"suspendTime\":\"2015-04-30T17:00:00.000Z\",\"bspReconciled\":false,\"complete\":true,\"inPlay\":false,\"crossMatching\":true,\"runnersVoidable\":false,\"numberOfActiveRunners\":3,\"betDelay\":0,\"status\":\"OPEN\",\"runners\":[{\"status\":\"ACTIVE\",\"sortPriority\":1,\"id\":579439,\"name\":\"Brabrand\"},{\"status\":\"ACTIVE\",\"sortPriority\":2,\"id\":4886887,\"name\":\"Middelfart\"},{\"status\":\"ACTIVE\",\"sortPriority\":3,\"id\":58805,\"name\":\"The Draw\"}],\"regulators\":[\"MR_INT\"],\"countryCode\":\"DK\",\"discountAllowed\":true,\"timezone\":\"Europe/London\",\"openDate\":\"2015-04-30T17:00:00.000Z\",\"version\":966296765,\"name\":\"Match Odds\",\"eventName\":\"Brabrand v Middelfart\"}}]}\n",
       "0  {\"op\":\"mcm\",\"clk\":\"640931146\",\"pt\":14303417671...                                                                                                                                                                                                                                                                                                                                                                                                                                                                                                                                                                                                                                                                                                                                                                                                                                                                                                                                     \n",
       "1  {\"op\":\"mcm\",\"clk\":\"641780997\",\"pt\":14303595189...                                                                                                                                                                                                                                                                                                                                                                                                                                                                                                                                                                                                                                                                                                                                                                                                                                                                                                                                     \n",
       "2  {\"op\":\"mcm\",\"clk\":\"644018648\",\"pt\":14304067792...                                                                                                                                                                                                                                                                                                                                                                                                                                                                                                                                                                                                                                                                                                                                                                                                                                                                                                                                     \n",
       "3  {\"op\":\"mcm\",\"clk\":\"644247721\",\"pt\":14304089699...                                                                                                                                                                                                                                                                                                                                                                                                                                                                                                                                                                                                                                                                                                                                                                                                                                                                                                                                     \n",
       "4  {\"op\":\"mcm\",\"clk\":\"644456150\",\"pt\":14304110439...                                                                                                                                                                                                                                                                                                                                                                                                                                                                                                                                                                                                                                                                                                                                                                                                                                                                                                                                     \n",
       "5  {\"op\":\"mcm\",\"clk\":\"644477405\",\"pt\":14304113155...                                                                                                                                                                                                                                                                                                                                                                                                                                                                                                                                                                                                                                                                                                                                                                                                                                                                                                                                     \n",
       "6  {\"op\":\"mcm\",\"clk\":\"644574270\",\"pt\":14304122494...                                                                                                                                                                                                                                                                                                                                                                                                                                                                                                                                                                                                                                                                                                                                                                                                                                                                                                                                     \n",
       "7  {\"op\":\"mcm\",\"clk\":\"644676103\",\"pt\":14304132087...                                                                                                                                                                                                                                                                                                                                                                                                                                                                                                                                                                                                                                                                                                                                                                                                                                                                                                                                     \n",
       "8  {\"op\":\"mcm\",\"clk\":\"645522183\",\"pt\":14304199446...                                                                                                                                                                                                                                                                                                                                                                                                                                                                                                                                                                                                                                                                                                                                                                                                                                                                                                                                     "
      ]
     },
     "execution_count": 44,
     "metadata": {},
     "output_type": "execute_result"
    }
   ],
   "source": [
    "pd.read_csv('/Users/user/Desktop/data/xds/historic/BASIC/27427374/1.118390406', sep='\\n')"
   ]
  },
  {
   "cell_type": "code",
   "execution_count": 16,
   "metadata": {},
   "outputs": [
    {
     "name": "stderr",
     "output_type": "stream",
     "text": [
      "b'Skipping line 3: expected 1 fields, saw 2\\nSkipping line 6: expected 1 fields, saw 2\\nSkipping line 11: expected 1 fields, saw 3\\nSkipping line 15: expected 1 fields, saw 4\\nSkipping line 26: expected 1 fields, saw 3\\nSkipping line 28: expected 1 fields, saw 3\\nSkipping line 31: expected 1 fields, saw 2\\nSkipping line 40: expected 1 fields, saw 2\\nSkipping line 41: expected 1 fields, saw 2\\nSkipping line 48: expected 1 fields, saw 2\\nSkipping line 49: expected 1 fields, saw 2\\nSkipping line 60: expected 1 fields, saw 2\\nSkipping line 61: expected 1 fields, saw 2\\nSkipping line 70: expected 1 fields, saw 3\\nSkipping line 71: expected 1 fields, saw 2\\nSkipping line 73: expected 1 fields, saw 3\\nSkipping line 77: expected 1 fields, saw 2\\nSkipping line 78: expected 1 fields, saw 2\\nSkipping line 80: expected 1 fields, saw 5\\nSkipping line 82: expected 1 fields, saw 3\\nSkipping line 86: expected 1 fields, saw 2\\nSkipping line 87: expected 1 fields, saw 2\\nSkipping line 89: expected 1 fields, saw 3\\nSkipping line 91: expected 1 fields, saw 2\\nSkipping line 95: expected 1 fields, saw 2\\nSkipping line 96: expected 1 fields, saw 2\\nSkipping line 100: expected 1 fields, saw 5\\nSkipping line 104: expected 1 fields, saw 2\\nSkipping line 106: expected 1 fields, saw 2\\nSkipping line 107: expected 1 fields, saw 2\\nSkipping line 108: expected 1 fields, saw 3\\nSkipping line 111: expected 1 fields, saw 3\\nSkipping line 112: expected 1 fields, saw 2\\nSkipping line 114: expected 1 fields, saw 2\\nSkipping line 115: expected 1 fields, saw 2\\nSkipping line 116: expected 1 fields, saw 2\\nSkipping line 120: expected 1 fields, saw 2\\nSkipping line 121: expected 1 fields, saw 3\\nSkipping line 130: expected 1 fields, saw 2\\nSkipping line 131: expected 1 fields, saw 3\\nSkipping line 133: expected 1 fields, saw 3\\nSkipping line 135: expected 1 fields, saw 3\\nSkipping line 136: expected 1 fields, saw 2\\nSkipping line 137: expected 1 fields, saw 2\\nSkipping line 139: expected 1 fields, saw 4\\nSkipping line 143: expected 1 fields, saw 2\\nSkipping line 152: expected 1 fields, saw 2\\nSkipping line 158: expected 1 fields, saw 2\\nSkipping line 161: expected 1 fields, saw 2\\nSkipping line 162: expected 1 fields, saw 2\\nSkipping line 168: expected 1 fields, saw 2\\nSkipping line 171: expected 1 fields, saw 4\\nSkipping line 173: expected 1 fields, saw 3\\nSkipping line 181: expected 1 fields, saw 3\\nSkipping line 184: expected 1 fields, saw 2\\nSkipping line 185: expected 1 fields, saw 2\\nSkipping line 187: expected 1 fields, saw 2\\nSkipping line 188: expected 1 fields, saw 2\\nSkipping line 190: expected 1 fields, saw 2\\nSkipping line 192: expected 1 fields, saw 3\\nSkipping line 198: expected 1 fields, saw 3\\nSkipping line 203: expected 1 fields, saw 2\\nSkipping line 205: expected 1 fields, saw 3\\nSkipping line 207: expected 1 fields, saw 3\\nSkipping line 211: expected 1 fields, saw 2\\nSkipping line 212: expected 1 fields, saw 2\\nSkipping line 216: expected 1 fields, saw 2\\nSkipping line 220: expected 1 fields, saw 2\\nSkipping line 224: expected 1 fields, saw 2\\nSkipping line 228: expected 1 fields, saw 2\\nSkipping line 232: expected 1 fields, saw 2\\nSkipping line 236: expected 1 fields, saw 2\\nSkipping line 240: expected 1 fields, saw 2\\nSkipping line 244: expected 1 fields, saw 2\\nSkipping line 248: expected 1 fields, saw 2\\nSkipping line 252: expected 1 fields, saw 2\\nSkipping line 256: expected 1 fields, saw 2\\nSkipping line 260: expected 1 fields, saw 2\\nSkipping line 264: expected 1 fields, saw 2\\nSkipping line 268: expected 1 fields, saw 2\\nSkipping line 272: expected 1 fields, saw 2\\nSkipping line 276: expected 1 fields, saw 2\\nSkipping line 280: expected 1 fields, saw 2\\nSkipping line 284: expected 1 fields, saw 2\\nSkipping line 288: expected 1 fields, saw 2\\nSkipping line 292: expected 1 fields, saw 2\\nSkipping line 296: expected 1 fields, saw 2\\nSkipping line 300: expected 1 fields, saw 2\\nSkipping line 304: expected 1 fields, saw 2\\nSkipping line 308: expected 1 fields, saw 2\\nSkipping line 312: expected 1 fields, saw 2\\nSkipping line 316: expected 1 fields, saw 2\\nSkipping line 320: expected 1 fields, saw 2\\nSkipping line 324: expected 1 fields, saw 2\\nSkipping line 328: expected 1 fields, saw 2\\nSkipping line 332: expected 1 fields, saw 2\\nSkipping line 336: expected 1 fields, saw 2\\nSkipping line 340: expected 1 fields, saw 2\\nSkipping line 344: expected 1 fields, saw 2\\nSkipping line 348: expected 1 fields, saw 2\\nSkipping line 352: expected 1 fields, saw 2\\nSkipping line 356: expected 1 fields, saw 2\\nSkipping line 360: expected 1 fields, saw 2\\nSkipping line 364: expected 1 fields, saw 2\\nSkipping line 368: expected 1 fields, saw 2\\nSkipping line 372: expected 1 fields, saw 2\\nSkipping line 376: expected 1 fields, saw 2\\nSkipping line 380: expected 1 fields, saw 2\\nSkipping line 384: expected 1 fields, saw 2\\nSkipping line 388: expected 1 fields, saw 2\\nSkipping line 392: expected 1 fields, saw 2\\nSkipping line 396: expected 1 fields, saw 2\\nSkipping line 400: expected 1 fields, saw 2\\nSkipping line 404: expected 1 fields, saw 2\\nSkipping line 408: expected 1 fields, saw 2\\nSkipping line 412: expected 1 fields, saw 2\\nSkipping line 416: expected 1 fields, saw 2\\nSkipping line 420: expected 1 fields, saw 2\\nSkipping line 424: expected 1 fields, saw 2\\nSkipping line 428: expected 1 fields, saw 2\\nSkipping line 432: expected 1 fields, saw 2\\nSkipping line 436: expected 1 fields, saw 2\\nSkipping line 440: expected 1 fields, saw 2\\nSkipping line 444: expected 1 fields, saw 2\\nSkipping line 448: expected 1 fields, saw 2\\nSkipping line 452: expected 1 fields, saw 2\\nSkipping line 456: expected 1 fields, saw 2\\nSkipping line 460: expected 1 fields, saw 2\\nSkipping line 464: expected 1 fields, saw 2\\nSkipping line 468: expected 1 fields, saw 2\\nSkipping line 472: expected 1 fields, saw 2\\nSkipping line 476: expected 1 fields, saw 2\\nSkipping line 480: expected 1 fields, saw 2\\nSkipping line 484: expected 1 fields, saw 2\\nSkipping line 488: expected 1 fields, saw 2\\nSkipping line 492: expected 1 fields, saw 2\\nSkipping line 496: expected 1 fields, saw 2\\nSkipping line 500: expected 1 fields, saw 2\\nSkipping line 504: expected 1 fields, saw 2\\nSkipping line 508: expected 1 fields, saw 2\\nSkipping line 512: expected 1 fields, saw 2\\nSkipping line 516: expected 1 fields, saw 2\\nSkipping line 520: expected 1 fields, saw 2\\nSkipping line 524: expected 1 fields, saw 2\\nSkipping line 528: expected 1 fields, saw 2\\nSkipping line 532: expected 1 fields, saw 2\\nSkipping line 536: expected 1 fields, saw 2\\nSkipping line 540: expected 1 fields, saw 2\\nSkipping line 544: expected 1 fields, saw 2\\nSkipping line 548: expected 1 fields, saw 2\\nSkipping line 552: expected 1 fields, saw 2\\nSkipping line 556: expected 1 fields, saw 2\\nSkipping line 560: expected 1 fields, saw 2\\nSkipping line 564: expected 1 fields, saw 2\\nSkipping line 568: expected 1 fields, saw 2\\nSkipping line 572: expected 1 fields, saw 2\\nSkipping line 576: expected 1 fields, saw 2\\nSkipping line 580: expected 1 fields, saw 2\\nSkipping line 584: expected 1 fields, saw 2\\nSkipping line 588: expected 1 fields, saw 2\\nSkipping line 592: expected 1 fields, saw 2\\nSkipping line 596: expected 1 fields, saw 2\\nSkipping line 600: expected 1 fields, saw 2\\nSkipping line 604: expected 1 fields, saw 2\\nSkipping line 608: expected 1 fields, saw 2\\nSkipping line 612: expected 1 fields, saw 2\\nSkipping line 616: expected 1 fields, saw 2\\nSkipping line 620: expected 1 fields, saw 2\\nSkipping line 624: expected 1 fields, saw 2\\nSkipping line 628: expected 1 fields, saw 2\\nSkipping line 632: expected 1 fields, saw 2\\nSkipping line 636: expected 1 fields, saw 2\\nSkipping line 640: expected 1 fields, saw 2\\nSkipping line 644: expected 1 fields, saw 2\\nSkipping line 648: expected 1 fields, saw 2\\nSkipping line 652: expected 1 fields, saw 2\\nSkipping line 656: expected 1 fields, saw 2\\nSkipping line 660: expected 1 fields, saw 2\\nSkipping line 664: expected 1 fields, saw 2\\nSkipping line 668: expected 1 fields, saw 2\\nSkipping line 672: expected 1 fields, saw 2\\nSkipping line 676: expected 1 fields, saw 2\\nSkipping line 680: expected 1 fields, saw 2\\nSkipping line 684: expected 1 fields, saw 2\\nSkipping line 688: expected 1 fields, saw 2\\nSkipping line 692: expected 1 fields, saw 2\\nSkipping line 696: expected 1 fields, saw 2\\nSkipping line 700: expected 1 fields, saw 2\\nSkipping line 704: expected 1 fields, saw 2\\nSkipping line 708: expected 1 fields, saw 2\\nSkipping line 712: expected 1 fields, saw 2\\nSkipping line 716: expected 1 fields, saw 2\\nSkipping line 720: expected 1 fields, saw 2\\nSkipping line 724: expected 1 fields, saw 2\\nSkipping line 728: expected 1 fields, saw 2\\nSkipping line 732: expected 1 fields, saw 2\\nSkipping line 736: expected 1 fields, saw 2\\nSkipping line 740: expected 1 fields, saw 2\\nSkipping line 744: expected 1 fields, saw 2\\nSkipping line 748: expected 1 fields, saw 2\\nSkipping line 752: expected 1 fields, saw 2\\nSkipping line 756: expected 1 fields, saw 2\\nSkipping line 760: expected 1 fields, saw 2\\nSkipping line 764: expected 1 fields, saw 2\\nSkipping line 768: expected 1 fields, saw 2\\nSkipping line 772: expected 1 fields, saw 2\\nSkipping line 776: expected 1 fields, saw 2\\nSkipping line 780: expected 1 fields, saw 2\\nSkipping line 784: expected 1 fields, saw 2\\nSkipping line 788: expected 1 fields, saw 2\\nSkipping line 792: expected 1 fields, saw 2\\nSkipping line 796: expected 1 fields, saw 2\\nSkipping line 800: expected 1 fields, saw 2\\nSkipping line 804: expected 1 fields, saw 2\\nSkipping line 808: expected 1 fields, saw 2\\nSkipping line 812: expected 1 fields, saw 2\\nSkipping line 816: expected 1 fields, saw 2\\nSkipping line 820: expected 1 fields, saw 2\\nSkipping line 824: expected 1 fields, saw 2\\nSkipping line 828: expected 1 fields, saw 2\\nSkipping line 832: expected 1 fields, saw 2\\nSkipping line 836: expected 1 fields, saw 2\\nSkipping line 840: expected 1 fields, saw 2\\nSkipping line 844: expected 1 fields, saw 2\\nSkipping line 848: expected 1 fields, saw 2\\nSkipping line 852: expected 1 fields, saw 2\\nSkipping line 856: expected 1 fields, saw 2\\nSkipping line 860: expected 1 fields, saw 2\\nSkipping line 864: expected 1 fields, saw 2\\nSkipping line 868: expected 1 fields, saw 2\\nSkipping line 872: expected 1 fields, saw 2\\nSkipping line 876: expected 1 fields, saw 2\\nSkipping line 880: expected 1 fields, saw 2\\nSkipping line 884: expected 1 fields, saw 2\\nSkipping line 888: expected 1 fields, saw 2\\nSkipping line 892: expected 1 fields, saw 2\\nSkipping line 896: expected 1 fields, saw 2\\nSkipping line 900: expected 1 fields, saw 2\\nSkipping line 904: expected 1 fields, saw 2\\nSkipping line 908: expected 1 fields, saw 2\\nSkipping line 912: expected 1 fields, saw 2\\nSkipping line 916: expected 1 fields, saw 2\\nSkipping line 920: expected 1 fields, saw 2\\nSkipping line 924: expected 1 fields, saw 2\\nSkipping line 928: expected 1 fields, saw 2\\nSkipping line 932: expected 1 fields, saw 2\\nSkipping line 936: expected 1 fields, saw 2\\nSkipping line 940: expected 1 fields, saw 2\\nSkipping line 944: expected 1 fields, saw 2\\nSkipping line 948: expected 1 fields, saw 2\\nSkipping line 952: expected 1 fields, saw 2\\nSkipping line 956: expected 1 fields, saw 2\\nSkipping line 960: expected 1 fields, saw 2\\nSkipping line 964: expected 1 fields, saw 2\\nSkipping line 968: expected 1 fields, saw 2\\nSkipping line 972: expected 1 fields, saw 2\\nSkipping line 976: expected 1 fields, saw 2\\nSkipping line 980: expected 1 fields, saw 2\\nSkipping line 984: expected 1 fields, saw 2\\nSkipping line 988: expected 1 fields, saw 2\\nSkipping line 992: expected 1 fields, saw 2\\nSkipping line 996: expected 1 fields, saw 2\\nSkipping line 1000: expected 1 fields, saw 2\\nSkipping line 1004: expected 1 fields, saw 2\\nSkipping line 1008: expected 1 fields, saw 2\\nSkipping line 1012: expected 1 fields, saw 2\\nSkipping line 1016: expected 1 fields, saw 2\\nSkipping line 1020: expected 1 fields, saw 2\\nSkipping line 1024: expected 1 fields, saw 2\\nSkipping line 1028: expected 1 fields, saw 2\\nSkipping line 1032: expected 1 fields, saw 2\\nSkipping line 1036: expected 1 fields, saw 2\\nSkipping line 1040: expected 1 fields, saw 2\\nSkipping line 1044: expected 1 fields, saw 2\\nSkipping line 1048: expected 1 fields, saw 2\\nSkipping line 1052: expected 1 fields, saw 2\\nSkipping line 1056: expected 1 fields, saw 2\\nSkipping line 1060: expected 1 fields, saw 2\\nSkipping line 1064: expected 1 fields, saw 2\\nSkipping line 1068: expected 1 fields, saw 2\\nSkipping line 1072: expected 1 fields, saw 2\\nSkipping line 1076: expected 1 fields, saw 2\\nSkipping line 1080: expected 1 fields, saw 2\\nSkipping line 1084: expected 1 fields, saw 2\\nSkipping line 1088: expected 1 fields, saw 2\\nSkipping line 1092: expected 1 fields, saw 2\\nSkipping line 1096: expected 1 fields, saw 2\\nSkipping line 1100: expected 1 fields, saw 2\\nSkipping line 1104: expected 1 fields, saw 2\\nSkipping line 1108: expected 1 fields, saw 2\\nSkipping line 1112: expected 1 fields, saw 2\\nSkipping line 1116: expected 1 fields, saw 2\\nSkipping line 1120: expected 1 fields, saw 2\\nSkipping line 1124: expected 1 fields, saw 2\\nSkipping line 1128: expected 1 fields, saw 2\\nSkipping line 1132: expected 1 fields, saw 2\\nSkipping line 1136: expected 1 fields, saw 2\\nSkipping line 1140: expected 1 fields, saw 2\\nSkipping line 1144: expected 1 fields, saw 2\\nSkipping line 1148: expected 1 fields, saw 2\\nSkipping line 1152: expected 1 fields, saw 2\\nSkipping line 1156: expected 1 fields, saw 2\\nSkipping line 1160: expected 1 fields, saw 2\\nSkipping line 1164: expected 1 fields, saw 2\\nSkipping line 1168: expected 1 fields, saw 2\\nSkipping line 1172: expected 1 fields, saw 2\\nSkipping line 1176: expected 1 fields, saw 2\\nSkipping line 1180: expected 1 fields, saw 2\\nSkipping line 1184: expected 1 fields, saw 2\\nSkipping line 1188: expected 1 fields, saw 2\\nSkipping line 1192: expected 1 fields, saw 2\\nSkipping line 1196: expected 1 fields, saw 2\\nSkipping line 1200: expected 1 fields, saw 2\\nSkipping line 1204: expected 1 fields, saw 2\\nSkipping line 1208: expected 1 fields, saw 2\\nSkipping line 1212: expected 1 fields, saw 2\\nSkipping line 1216: expected 1 fields, saw 2\\nSkipping line 1220: expected 1 fields, saw 2\\nSkipping line 1224: expected 1 fields, saw 2\\nSkipping line 1228: expected 1 fields, saw 2\\nSkipping line 1232: expected 1 fields, saw 2\\nSkipping line 1236: expected 1 fields, saw 2\\nSkipping line 1240: expected 1 fields, saw 2\\nSkipping line 1244: expected 1 fields, saw 2\\nSkipping line 1248: expected 1 fields, saw 2\\nSkipping line 1252: expected 1 fields, saw 2\\nSkipping line 1256: expected 1 fields, saw 2\\nSkipping line 1260: expected 1 fields, saw 2\\nSkipping line 1264: expected 1 fields, saw 2\\nSkipping line 1268: expected 1 fields, saw 2\\nSkipping line 1272: expected 1 fields, saw 2\\nSkipping line 1276: expected 1 fields, saw 2\\nSkipping line 1280: expected 1 fields, saw 2\\nSkipping line 1284: expected 1 fields, saw 2\\nSkipping line 1288: expected 1 fields, saw 2\\nSkipping line 1292: expected 1 fields, saw 2\\nSkipping line 1296: expected 1 fields, saw 2\\nSkipping line 1300: expected 1 fields, saw 2\\nSkipping line 1304: expected 1 fields, saw 2\\nSkipping line 1308: expected 1 fields, saw 2\\nSkipping line 1312: expected 1 fields, saw 2\\nSkipping line 1316: expected 1 fields, saw 2\\nSkipping line 1320: expected 1 fields, saw 2\\nSkipping line 1324: expected 1 fields, saw 2\\nSkipping line 1328: expected 1 fields, saw 2\\nSkipping line 1332: expected 1 fields, saw 2\\nSkipping line 1336: expected 1 fields, saw 2\\nSkipping line 1340: expected 1 fields, saw 2\\nSkipping line 1344: expected 1 fields, saw 2\\nSkipping line 1348: expected 1 fields, saw 2\\nSkipping line 1352: expected 1 fields, saw 2\\nSkipping line 1356: expected 1 fields, saw 2\\nSkipping line 1360: expected 1 fields, saw 2\\nSkipping line 1364: expected 1 fields, saw 2\\nSkipping line 1368: expected 1 fields, saw 2\\nSkipping line 1372: expected 1 fields, saw 2\\nSkipping line 1376: expected 1 fields, saw 2\\nSkipping line 1380: expected 1 fields, saw 2\\nSkipping line 1384: expected 1 fields, saw 2\\nSkipping line 1388: expected 1 fields, saw 2\\nSkipping line 1392: expected 1 fields, saw 2\\nSkipping line 1396: expected 1 fields, saw 2\\nSkipping line 1400: expected 1 fields, saw 2\\nSkipping line 1404: expected 1 fields, saw 2\\nSkipping line 1408: expected 1 fields, saw 2\\nSkipping line 1412: expected 1 fields, saw 2\\nSkipping line 1416: expected 1 fields, saw 2\\nSkipping line 1420: expected 1 fields, saw 2\\nSkipping line 1424: expected 1 fields, saw 2\\nSkipping line 1428: expected 1 fields, saw 2\\nSkipping line 1432: expected 1 fields, saw 2\\nSkipping line 1436: expected 1 fields, saw 2\\nSkipping line 1440: expected 1 fields, saw 2\\nSkipping line 1444: expected 1 fields, saw 2\\nSkipping line 1448: expected 1 fields, saw 2\\nSkipping line 1452: expected 1 fields, saw 2\\nSkipping line 1456: expected 1 fields, saw 2\\nSkipping line 1460: expected 1 fields, saw 2\\nSkipping line 1464: expected 1 fields, saw 2\\nSkipping line 1468: expected 1 fields, saw 2\\nSkipping line 1472: expected 1 fields, saw 2\\nSkipping line 1476: expected 1 fields, saw 2\\nSkipping line 1480: expected 1 fields, saw 2\\nSkipping line 1484: expected 1 fields, saw 2\\nSkipping line 1488: expected 1 fields, saw 2\\nSkipping line 1492: expected 1 fields, saw 2\\nSkipping line 1496: expected 1 fields, saw 2\\nSkipping line 1500: expected 1 fields, saw 2\\nSkipping line 1504: expected 1 fields, saw 2\\nSkipping line 1508: expected 1 fields, saw 2\\nSkipping line 1512: expected 1 fields, saw 2\\nSkipping line 1516: expected 1 fields, saw 2\\nSkipping line 1520: expected 1 fields, saw 2\\nSkipping line 1524: expected 1 fields, saw 2\\nSkipping line 1528: expected 1 fields, saw 2\\nSkipping line 1532: expected 1 fields, saw 2\\nSkipping line 1536: expected 1 fields, saw 2\\nSkipping line 1540: expected 1 fields, saw 2\\nSkipping line 1544: expected 1 fields, saw 2\\nSkipping line 1548: expected 1 fields, saw 2\\nSkipping line 1552: expected 1 fields, saw 2\\nSkipping line 1556: expected 1 fields, saw 2\\nSkipping line 1560: expected 1 fields, saw 2\\nSkipping line 1564: expected 1 fields, saw 2\\nSkipping line 1568: expected 1 fields, saw 2\\nSkipping line 1572: expected 1 fields, saw 2\\nSkipping line 1576: expected 1 fields, saw 2\\nSkipping line 1580: expected 1 fields, saw 2\\nSkipping line 1584: expected 1 fields, saw 2\\nSkipping line 1588: expected 1 fields, saw 2\\nSkipping line 1592: expected 1 fields, saw 2\\nSkipping line 1596: expected 1 fields, saw 2\\nSkipping line 1600: expected 1 fields, saw 2\\nSkipping line 1604: expected 1 fields, saw 2\\nSkipping line 1608: expected 1 fields, saw 2\\nSkipping line 1612: expected 1 fields, saw 2\\nSkipping line 1616: expected 1 fields, saw 2\\nSkipping line 1620: expected 1 fields, saw 2\\nSkipping line 1624: expected 1 fields, saw 2\\nSkipping line 1628: expected 1 fields, saw 2\\nSkipping line 1632: expected 1 fields, saw 2\\nSkipping line 1636: expected 1 fields, saw 2\\nSkipping line 1640: expected 1 fields, saw 2\\nSkipping line 1644: expected 1 fields, saw 2\\nSkipping line 1648: expected 1 fields, saw 2\\nSkipping line 1652: expected 1 fields, saw 2\\nSkipping line 1656: expected 1 fields, saw 2\\nSkipping line 1660: expected 1 fields, saw 2\\nSkipping line 1664: expected 1 fields, saw 2\\nSkipping line 1668: expected 1 fields, saw 2\\nSkipping line 1672: expected 1 fields, saw 2\\nSkipping line 1676: expected 1 fields, saw 2\\nSkipping line 1680: expected 1 fields, saw 2\\nSkipping line 1684: expected 1 fields, saw 2\\nSkipping line 1688: expected 1 fields, saw 2\\nSkipping line 1692: expected 1 fields, saw 2\\nSkipping line 1696: expected 1 fields, saw 2\\nSkipping line 1700: expected 1 fields, saw 2\\nSkipping line 1704: expected 1 fields, saw 2\\nSkipping line 1708: expected 1 fields, saw 2\\nSkipping line 1712: expected 1 fields, saw 2\\nSkipping line 1716: expected 1 fields, saw 2\\nSkipping line 1720: expected 1 fields, saw 2\\nSkipping line 1724: expected 1 fields, saw 2\\nSkipping line 1728: expected 1 fields, saw 2\\nSkipping line 1732: expected 1 fields, saw 2\\nSkipping line 1736: expected 1 fields, saw 2\\nSkipping line 1740: expected 1 fields, saw 2\\nSkipping line 1744: expected 1 fields, saw 2\\nSkipping line 1748: expected 1 fields, saw 2\\nSkipping line 1752: expected 1 fields, saw 2\\nSkipping line 1756: expected 1 fields, saw 2\\nSkipping line 1760: expected 1 fields, saw 2\\nSkipping line 1764: expected 1 fields, saw 2\\nSkipping line 1768: expected 1 fields, saw 2\\nSkipping line 1772: expected 1 fields, saw 2\\nSkipping line 1776: expected 1 fields, saw 2\\nSkipping line 1780: expected 1 fields, saw 2\\nSkipping line 1784: expected 1 fields, saw 2\\nSkipping line 1788: expected 1 fields, saw 2\\nSkipping line 1792: expected 1 fields, saw 2\\nSkipping line 1796: expected 1 fields, saw 2\\nSkipping line 1800: expected 1 fields, saw 2\\nSkipping line 1804: expected 1 fields, saw 2\\nSkipping line 1808: expected 1 fields, saw 2\\nSkipping line 1812: expected 1 fields, saw 2\\nSkipping line 1816: expected 1 fields, saw 2\\nSkipping line 1820: expected 1 fields, saw 2\\nSkipping line 1824: expected 1 fields, saw 2\\nSkipping line 1828: expected 1 fields, saw 2\\nSkipping line 1832: expected 1 fields, saw 2\\nSkipping line 1836: expected 1 fields, saw 2\\nSkipping line 1840: expected 1 fields, saw 2\\nSkipping line 1844: expected 1 fields, saw 2\\nSkipping line 1848: expected 1 fields, saw 2\\nSkipping line 1852: expected 1 fields, saw 2\\nSkipping line 1856: expected 1 fields, saw 2\\nSkipping line 1860: expected 1 fields, saw 2\\nSkipping line 1864: expected 1 fields, saw 2\\nSkipping line 1868: expected 1 fields, saw 2\\nSkipping line 1872: expected 1 fields, saw 2\\nSkipping line 1876: expected 1 fields, saw 2\\nSkipping line 1880: expected 1 fields, saw 2\\nSkipping line 1884: expected 1 fields, saw 2\\nSkipping line 1888: expected 1 fields, saw 2\\nSkipping line 1892: expected 1 fields, saw 2\\nSkipping line 1896: expected 1 fields, saw 2\\nSkipping line 1900: expected 1 fields, saw 2\\nSkipping line 1904: expected 1 fields, saw 2\\nSkipping line 1908: expected 1 fields, saw 2\\nSkipping line 1912: expected 1 fields, saw 2\\nSkipping line 1916: expected 1 fields, saw 2\\nSkipping line 1920: expected 1 fields, saw 2\\nSkipping line 1924: expected 1 fields, saw 2\\nSkipping line 1928: expected 1 fields, saw 2\\nSkipping line 1932: expected 1 fields, saw 2\\nSkipping line 1936: expected 1 fields, saw 2\\nSkipping line 1940: expected 1 fields, saw 2\\nSkipping line 1944: expected 1 fields, saw 2\\nSkipping line 1948: expected 1 fields, saw 2\\nSkipping line 1952: expected 1 fields, saw 2\\nSkipping line 1956: expected 1 fields, saw 2\\nSkipping line 1960: expected 1 fields, saw 2\\nSkipping line 1964: expected 1 fields, saw 2\\nSkipping line 1968: expected 1 fields, saw 2\\nSkipping line 1972: expected 1 fields, saw 2\\nSkipping line 1976: expected 1 fields, saw 2\\nSkipping line 1980: expected 1 fields, saw 2\\nSkipping line 1984: expected 1 fields, saw 2\\nSkipping line 1988: expected 1 fields, saw 2\\nSkipping line 1992: expected 1 fields, saw 2\\nSkipping line 1996: expected 1 fields, saw 2\\nSkipping line 2000: expected 1 fields, saw 2\\nSkipping line 2004: expected 1 fields, saw 2\\nSkipping line 2008: expected 1 fields, saw 2\\nSkipping line 2012: expected 1 fields, saw 2\\nSkipping line 2016: expected 1 fields, saw 2\\nSkipping line 2020: expected 1 fields, saw 2\\nSkipping line 2024: expected 1 fields, saw 2\\nSkipping line 2028: expected 1 fields, saw 2\\nSkipping line 2032: expected 1 fields, saw 2\\nSkipping line 2036: expected 1 fields, saw 2\\nSkipping line 2040: expected 1 fields, saw 2\\nSkipping line 2044: expected 1 fields, saw 2\\nSkipping line 2048: expected 1 fields, saw 2\\nSkipping line 2052: expected 1 fields, saw 2\\nSkipping line 2056: expected 1 fields, saw 2\\nSkipping line 2060: expected 1 fields, saw 2\\nSkipping line 2064: expected 1 fields, saw 2\\nSkipping line 2068: expected 1 fields, saw 2\\nSkipping line 2072: expected 1 fields, saw 2\\nSkipping line 2076: expected 1 fields, saw 2\\nSkipping line 2080: expected 1 fields, saw 2\\nSkipping line 2084: expected 1 fields, saw 2\\nSkipping line 2088: expected 1 fields, saw 2\\nSkipping line 2092: expected 1 fields, saw 2\\nSkipping line 2096: expected 1 fields, saw 2\\nSkipping line 2100: expected 1 fields, saw 2\\nSkipping line 2104: expected 1 fields, saw 2\\nSkipping line 2108: expected 1 fields, saw 2\\nSkipping line 2112: expected 1 fields, saw 2\\nSkipping line 2116: expected 1 fields, saw 2\\nSkipping line 2120: expected 1 fields, saw 2\\nSkipping line 2124: expected 1 fields, saw 2\\nSkipping line 2128: expected 1 fields, saw 2\\nSkipping line 2132: expected 1 fields, saw 2\\nSkipping line 2136: expected 1 fields, saw 2\\nSkipping line 2140: expected 1 fields, saw 2\\nSkipping line 2144: expected 1 fields, saw 2\\nSkipping line 2148: expected 1 fields, saw 2\\nSkipping line 2152: expected 1 fields, saw 2\\nSkipping line 2156: expected 1 fields, saw 2\\nSkipping line 2160: expected 1 fields, saw 2\\nSkipping line 2164: expected 1 fields, saw 2\\nSkipping line 2168: expected 1 fields, saw 2\\nSkipping line 2172: expected 1 fields, saw 2\\nSkipping line 2176: expected 1 fields, saw 2\\nSkipping line 2180: expected 1 fields, saw 2\\nSkipping line 2184: expected 1 fields, saw 2\\nSkipping line 2188: expected 1 fields, saw 2\\nSkipping line 2192: expected 1 fields, saw 2\\nSkipping line 2196: expected 1 fields, saw 2\\nSkipping line 2200: expected 1 fields, saw 2\\nSkipping line 2204: expected 1 fields, saw 2\\nSkipping line 2208: expected 1 fields, saw 2\\nSkipping line 2212: expected 1 fields, saw 2\\nSkipping line 2216: expected 1 fields, saw 2\\nSkipping line 2220: expected 1 fields, saw 2\\nSkipping line 2224: expected 1 fields, saw 2\\nSkipping line 2228: expected 1 fields, saw 2\\nSkipping line 2232: expected 1 fields, saw 2\\nSkipping line 2236: expected 1 fields, saw 2\\nSkipping line 2240: expected 1 fields, saw 2\\nSkipping line 2244: expected 1 fields, saw 2\\nSkipping line 2248: expected 1 fields, saw 2\\nSkipping line 2252: expected 1 fields, saw 2\\nSkipping line 2256: expected 1 fields, saw 2\\nSkipping line 2260: expected 1 fields, saw 2\\nSkipping line 2264: expected 1 fields, saw 2\\nSkipping line 2268: expected 1 fields, saw 2\\nSkipping line 2272: expected 1 fields, saw 2\\nSkipping line 2276: expected 1 fields, saw 2\\nSkipping line 2280: expected 1 fields, saw 2\\nSkipping line 2284: expected 1 fields, saw 2\\nSkipping line 2288: expected 1 fields, saw 2\\nSkipping line 2292: expected 1 fields, saw 2\\nSkipping line 2296: expected 1 fields, saw 2\\nSkipping line 2300: expected 1 fields, saw 2\\nSkipping line 2304: expected 1 fields, saw 2\\nSkipping line 2308: expected 1 fields, saw 2\\nSkipping line 2312: expected 1 fields, saw 2\\nSkipping line 2316: expected 1 fields, saw 2\\nSkipping line 2320: expected 1 fields, saw 2\\nSkipping line 2324: expected 1 fields, saw 2\\nSkipping line 2328: expected 1 fields, saw 2\\nSkipping line 2332: expected 1 fields, saw 2\\nSkipping line 2336: expected 1 fields, saw 2\\nSkipping line 2340: expected 1 fields, saw 2\\nSkipping line 2344: expected 1 fields, saw 2\\nSkipping line 2348: expected 1 fields, saw 2\\nSkipping line 2352: expected 1 fields, saw 2\\nSkipping line 2356: expected 1 fields, saw 2\\nSkipping line 2360: expected 1 fields, saw 2\\nSkipping line 2364: expected 1 fields, saw 2\\nSkipping line 2368: expected 1 fields, saw 2\\nSkipping line 2372: expected 1 fields, saw 2\\nSkipping line 2376: expected 1 fields, saw 2\\nSkipping line 2380: expected 1 fields, saw 2\\nSkipping line 2384: expected 1 fields, saw 2\\nSkipping line 2388: expected 1 fields, saw 2\\nSkipping line 2392: expected 1 fields, saw 2\\nSkipping line 2396: expected 1 fields, saw 2\\nSkipping line 2400: expected 1 fields, saw 2\\nSkipping line 2404: expected 1 fields, saw 2\\nSkipping line 2408: expected 1 fields, saw 2\\nSkipping line 2412: expected 1 fields, saw 2\\nSkipping line 2416: expected 1 fields, saw 2\\nSkipping line 2420: expected 1 fields, saw 2\\nSkipping line 2424: expected 1 fields, saw 2\\nSkipping line 2428: expected 1 fields, saw 2\\nSkipping line 2432: expected 1 fields, saw 2\\nSkipping line 2436: expected 1 fields, saw 2\\nSkipping line 2440: expected 1 fields, saw 2\\nSkipping line 2444: expected 1 fields, saw 2\\nSkipping line 2448: expected 1 fields, saw 2\\nSkipping line 2452: expected 1 fields, saw 2\\nSkipping line 2456: expected 1 fields, saw 2\\nSkipping line 2460: expected 1 fields, saw 2\\nSkipping line 2464: expected 1 fields, saw 2\\nSkipping line 2468: expected 1 fields, saw 2\\nSkipping line 2472: expected 1 fields, saw 2\\nSkipping line 2476: expected 1 fields, saw 2\\nSkipping line 2480: expected 1 fields, saw 2\\nSkipping line 2484: expected 1 fields, saw 2\\nSkipping line 2488: expected 1 fields, saw 2\\nSkipping line 2492: expected 1 fields, saw 2\\nSkipping line 2496: expected 1 fields, saw 2\\nSkipping line 2500: expected 1 fields, saw 2\\nSkipping line 2504: expected 1 fields, saw 2\\nSkipping line 2508: expected 1 fields, saw 2\\nSkipping line 2512: expected 1 fields, saw 2\\nSkipping line 2516: expected 1 fields, saw 2\\nSkipping line 2520: expected 1 fields, saw 2\\nSkipping line 2524: expected 1 fields, saw 2\\nSkipping line 2528: expected 1 fields, saw 2\\nSkipping line 2532: expected 1 fields, saw 2\\nSkipping line 2536: expected 1 fields, saw 2\\nSkipping line 2540: expected 1 fields, saw 2\\nSkipping line 2544: expected 1 fields, saw 2\\nSkipping line 2548: expected 1 fields, saw 2\\nSkipping line 2552: expected 1 fields, saw 2\\nSkipping line 2556: expected 1 fields, saw 2\\nSkipping line 2560: expected 1 fields, saw 2\\nSkipping line 2564: expected 1 fields, saw 2\\nSkipping line 2568: expected 1 fields, saw 2\\nSkipping line 2572: expected 1 fields, saw 2\\nSkipping line 2576: expected 1 fields, saw 2\\nSkipping line 2580: expected 1 fields, saw 2\\nSkipping line 2584: expected 1 fields, saw 2\\nSkipping line 2588: expected 1 fields, saw 2\\nSkipping line 2592: expected 1 fields, saw 2\\nSkipping line 2596: expected 1 fields, saw 2\\nSkipping line 2600: expected 1 fields, saw 2\\nSkipping line 2604: expected 1 fields, saw 2\\nSkipping line 2608: expected 1 fields, saw 2\\nSkipping line 2612: expected 1 fields, saw 2\\nSkipping line 2616: expected 1 fields, saw 2\\nSkipping line 2620: expected 1 fields, saw 2\\nSkipping line 2624: expected 1 fields, saw 2\\nSkipping line 2628: expected 1 fields, saw 2\\nSkipping line 2632: expected 1 fields, saw 2\\nSkipping line 2636: expected 1 fields, saw 2\\nSkipping line 2640: expected 1 fields, saw 2\\nSkipping line 2644: expected 1 fields, saw 2\\nSkipping line 2648: expected 1 fields, saw 2\\nSkipping line 2652: expected 1 fields, saw 2\\nSkipping line 2656: expected 1 fields, saw 2\\nSkipping line 2660: expected 1 fields, saw 2\\nSkipping line 2664: expected 1 fields, saw 2\\nSkipping line 2668: expected 1 fields, saw 2\\nSkipping line 2672: expected 1 fields, saw 2\\nSkipping line 2676: expected 1 fields, saw 2\\nSkipping line 2680: expected 1 fields, saw 2\\nSkipping line 2684: expected 1 fields, saw 2\\nSkipping line 2688: expected 1 fields, saw 2\\nSkipping line 2692: expected 1 fields, saw 2\\nSkipping line 2696: expected 1 fields, saw 2\\nSkipping line 2700: expected 1 fields, saw 2\\nSkipping line 2704: expected 1 fields, saw 2\\nSkipping line 2708: expected 1 fields, saw 2\\nSkipping line 2712: expected 1 fields, saw 2\\nSkipping line 2716: expected 1 fields, saw 2\\nSkipping line 2720: expected 1 fields, saw 2\\nSkipping line 2724: expected 1 fields, saw 2\\nSkipping line 2728: expected 1 fields, saw 2\\nSkipping line 2732: expected 1 fields, saw 2\\nSkipping line 2736: expected 1 fields, saw 2\\nSkipping line 2740: expected 1 fields, saw 2\\nSkipping line 2744: expected 1 fields, saw 2\\nSkipping line 2748: expected 1 fields, saw 2\\nSkipping line 2752: expected 1 fields, saw 2\\nSkipping line 2756: expected 1 fields, saw 2\\nSkipping line 2760: expected 1 fields, saw 2\\nSkipping line 2764: expected 1 fields, saw 2\\nSkipping line 2768: expected 1 fields, saw 2\\nSkipping line 2772: expected 1 fields, saw 2\\nSkipping line 2776: expected 1 fields, saw 2\\nSkipping line 2780: expected 1 fields, saw 2\\nSkipping line 2784: expected 1 fields, saw 2\\nSkipping line 2788: expected 1 fields, saw 2\\nSkipping line 2792: expected 1 fields, saw 2\\nSkipping line 2796: expected 1 fields, saw 2\\nSkipping line 2800: expected 1 fields, saw 2\\nSkipping line 2804: expected 1 fields, saw 2\\nSkipping line 2808: expected 1 fields, saw 2\\nSkipping line 2812: expected 1 fields, saw 2\\nSkipping line 2816: expected 1 fields, saw 2\\nSkipping line 2820: expected 1 fields, saw 2\\nSkipping line 2824: expected 1 fields, saw 2\\nSkipping line 2828: expected 1 fields, saw 2\\nSkipping line 2832: expected 1 fields, saw 2\\nSkipping line 2836: expected 1 fields, saw 2\\nSkipping line 2840: expected 1 fields, saw 2\\nSkipping line 2844: expected 1 fields, saw 2\\nSkipping line 2848: expected 1 fields, saw 2\\nSkipping line 2852: expected 1 fields, saw 2\\nSkipping line 2856: expected 1 fields, saw 2\\nSkipping line 2860: expected 1 fields, saw 2\\nSkipping line 2864: expected 1 fields, saw 2\\nSkipping line 2868: expected 1 fields, saw 2\\nSkipping line 2872: expected 1 fields, saw 2\\nSkipping line 2876: expected 1 fields, saw 2\\nSkipping line 2880: expected 1 fields, saw 2\\nSkipping line 2884: expected 1 fields, saw 2\\nSkipping line 2888: expected 1 fields, saw 2\\nSkipping line 2892: expected 1 fields, saw 2\\nSkipping line 2896: expected 1 fields, saw 2\\nSkipping line 2900: expected 1 fields, saw 2\\nSkipping line 2904: expected 1 fields, saw 2\\nSkipping line 2908: expected 1 fields, saw 2\\nSkipping line 2912: expected 1 fields, saw 2\\nSkipping line 2916: expected 1 fields, saw 2\\nSkipping line 2920: expected 1 fields, saw 2\\nSkipping line 2924: expected 1 fields, saw 2\\nSkipping line 2928: expected 1 fields, saw 2\\nSkipping line 2932: expected 1 fields, saw 2\\nSkipping line 2936: expected 1 fields, saw 2\\nSkipping line 2940: expected 1 fields, saw 2\\nSkipping line 2944: expected 1 fields, saw 2\\nSkipping line 2948: expected 1 fields, saw 2\\nSkipping line 2952: expected 1 fields, saw 2\\nSkipping line 2956: expected 1 fields, saw 2\\nSkipping line 2960: expected 1 fields, saw 2\\nSkipping line 2964: expected 1 fields, saw 2\\nSkipping line 2968: expected 1 fields, saw 2\\nSkipping line 2972: expected 1 fields, saw 2\\nSkipping line 2976: expected 1 fields, saw 2\\nSkipping line 2980: expected 1 fields, saw 2\\nSkipping line 2984: expected 1 fields, saw 2\\nSkipping line 2988: expected 1 fields, saw 2\\nSkipping line 2992: expected 1 fields, saw 2\\nSkipping line 2996: expected 1 fields, saw 2\\nSkipping line 3000: expected 1 fields, saw 2\\nSkipping line 3004: expected 1 fields, saw 2\\nSkipping line 3008: expected 1 fields, saw 2\\nSkipping line 3012: expected 1 fields, saw 2\\nSkipping line 3016: expected 1 fields, saw 2\\nSkipping line 3020: expected 1 fields, saw 2\\nSkipping line 3024: expected 1 fields, saw 2\\nSkipping line 3028: expected 1 fields, saw 2\\nSkipping line 3032: expected 1 fields, saw 2\\nSkipping line 3036: expected 1 fields, saw 2\\nSkipping line 3040: expected 1 fields, saw 2\\nSkipping line 3044: expected 1 fields, saw 2\\nSkipping line 3048: expected 1 fields, saw 2\\nSkipping line 3052: expected 1 fields, saw 2\\nSkipping line 3056: expected 1 fields, saw 2\\nSkipping line 3060: expected 1 fields, saw 2\\nSkipping line 3064: expected 1 fields, saw 2\\nSkipping line 3068: expected 1 fields, saw 2\\nSkipping line 3072: expected 1 fields, saw 2\\nSkipping line 3076: expected 1 fields, saw 2\\nSkipping line 3080: expected 1 fields, saw 2\\nSkipping line 3084: expected 1 fields, saw 2\\nSkipping line 3088: expected 1 fields, saw 2\\nSkipping line 3092: expected 1 fields, saw 2\\nSkipping line 3096: expected 1 fields, saw 2\\nSkipping line 3100: expected 1 fields, saw 2\\nSkipping line 3104: expected 1 fields, saw 2\\nSkipping line 3108: expected 1 fields, saw 2\\nSkipping line 3112: expected 1 fields, saw 2\\nSkipping line 3116: expected 1 fields, saw 2\\nSkipping line 3120: expected 1 fields, saw 2\\nSkipping line 3124: expected 1 fields, saw 2\\nSkipping line 3128: expected 1 fields, saw 2\\nSkipping line 3132: expected 1 fields, saw 2\\nSkipping line 3136: expected 1 fields, saw 2\\nSkipping line 3140: expected 1 fields, saw 2\\nSkipping line 3144: expected 1 fields, saw 2\\nSkipping line 3148: expected 1 fields, saw 2\\nSkipping line 3152: expected 1 fields, saw 2\\nSkipping line 3156: expected 1 fields, saw 2\\nSkipping line 3160: expected 1 fields, saw 2\\nSkipping line 3164: expected 1 fields, saw 2\\nSkipping line 3168: expected 1 fields, saw 2\\nSkipping line 3172: expected 1 fields, saw 2\\nSkipping line 3176: expected 1 fields, saw 2\\nSkipping line 3180: expected 1 fields, saw 2\\nSkipping line 3184: expected 1 fields, saw 2\\nSkipping line 3188: expected 1 fields, saw 2\\nSkipping line 3192: expected 1 fields, saw 2\\nSkipping line 3196: expected 1 fields, saw 2\\nSkipping line 3200: expected 1 fields, saw 2\\nSkipping line 3204: expected 1 fields, saw 2\\nSkipping line 3208: expected 1 fields, saw 2\\nSkipping line 3212: expected 1 fields, saw 2\\nSkipping line 3216: expected 1 fields, saw 2\\nSkipping line 3220: expected 1 fields, saw 2\\nSkipping line 3224: expected 1 fields, saw 2\\nSkipping line 3228: expected 1 fields, saw 2\\nSkipping line 3232: expected 1 fields, saw 2\\nSkipping line 3236: expected 1 fields, saw 2\\nSkipping line 3240: expected 1 fields, saw 2\\nSkipping line 3244: expected 1 fields, saw 2\\nSkipping line 3248: expected 1 fields, saw 2\\nSkipping line 3252: expected 1 fields, saw 2\\nSkipping line 3256: expected 1 fields, saw 2\\nSkipping line 3260: expected 1 fields, saw 2\\nSkipping line 3264: expected 1 fields, saw 2\\nSkipping line 3268: expected 1 fields, saw 2\\nSkipping line 3272: expected 1 fields, saw 2\\nSkipping line 3276: expected 1 fields, saw 2\\nSkipping line 3280: expected 1 fields, saw 2\\nSkipping line 3284: expected 1 fields, saw 2\\nSkipping line 3288: expected 1 fields, saw 2\\nSkipping line 3292: expected 1 fields, saw 2\\nSkipping line 3296: expected 1 fields, saw 2\\nSkipping line 3300: expected 1 fields, saw 2\\nSkipping line 3304: expected 1 fields, saw 2\\nSkipping line 3308: expected 1 fields, saw 2\\nSkipping line 3312: expected 1 fields, saw 2\\nSkipping line 3316: expected 1 fields, saw 2\\nSkipping line 3320: expected 1 fields, saw 2\\nSkipping line 3324: expected 1 fields, saw 2\\nSkipping line 3328: expected 1 fields, saw 2\\nSkipping line 3332: expected 1 fields, saw 2\\nSkipping line 3336: expected 1 fields, saw 2\\nSkipping line 3340: expected 1 fields, saw 2\\nSkipping line 3344: expected 1 fields, saw 2\\nSkipping line 3348: expected 1 fields, saw 2\\nSkipping line 3352: expected 1 fields, saw 2\\nSkipping line 3356: expected 1 fields, saw 2\\nSkipping line 3360: expected 1 fields, saw 2\\nSkipping line 3364: expected 1 fields, saw 2\\nSkipping line 3368: expected 1 fields, saw 2\\nSkipping line 3372: expected 1 fields, saw 2\\nSkipping line 3376: expected 1 fields, saw 2\\nSkipping line 3380: expected 1 fields, saw 2\\nSkipping line 3384: expected 1 fields, saw 2\\nSkipping line 3388: expected 1 fields, saw 2\\nSkipping line 3392: expected 1 fields, saw 2\\nSkipping line 3396: expected 1 fields, saw 2\\nSkipping line 3400: expected 1 fields, saw 2\\nSkipping line 3404: expected 1 fields, saw 2\\nSkipping line 3408: expected 1 fields, saw 2\\nSkipping line 3412: expected 1 fields, saw 2\\nSkipping line 3416: expected 1 fields, saw 2\\nSkipping line 3420: expected 1 fields, saw 2\\nSkipping line 3424: expected 1 fields, saw 2\\nSkipping line 3428: expected 1 fields, saw 2\\nSkipping line 3432: expected 1 fields, saw 2\\nSkipping line 3436: expected 1 fields, saw 2\\nSkipping line 3440: expected 1 fields, saw 2\\nSkipping line 3444: expected 1 fields, saw 2\\nSkipping line 3448: expected 1 fields, saw 2\\nSkipping line 3452: expected 1 fields, saw 2\\nSkipping line 3456: expected 1 fields, saw 2\\nSkipping line 3460: expected 1 fields, saw 2\\nSkipping line 3464: expected 1 fields, saw 2\\nSkipping line 3468: expected 1 fields, saw 2\\nSkipping line 3472: expected 1 fields, saw 2\\nSkipping line 3476: expected 1 fields, saw 2\\nSkipping line 3480: expected 1 fields, saw 2\\nSkipping line 3484: expected 1 fields, saw 2\\nSkipping line 3488: expected 1 fields, saw 2\\nSkipping line 3492: expected 1 fields, saw 2\\nSkipping line 3496: expected 1 fields, saw 2\\nSkipping line 3500: expected 1 fields, saw 2\\nSkipping line 3504: expected 1 fields, saw 2\\nSkipping line 3508: expected 1 fields, saw 2\\nSkipping line 3512: expected 1 fields, saw 2\\nSkipping line 3516: expected 1 fields, saw 2\\nSkipping line 3520: expected 1 fields, saw 2\\nSkipping line 3524: expected 1 fields, saw 2\\nSkipping line 3528: expected 1 fields, saw 2\\nSkipping line 3532: expected 1 fields, saw 2\\nSkipping line 3536: expected 1 fields, saw 2\\nSkipping line 3540: expected 1 fields, saw 2\\nSkipping line 3544: expected 1 fields, saw 2\\nSkipping line 3548: expected 1 fields, saw 2\\nSkipping line 3552: expected 1 fields, saw 2\\nSkipping line 3556: expected 1 fields, saw 2\\nSkipping line 3560: expected 1 fields, saw 2\\nSkipping line 3564: expected 1 fields, saw 2\\nSkipping line 3568: expected 1 fields, saw 2\\nSkipping line 3572: expected 1 fields, saw 2\\nSkipping line 3576: expected 1 fields, saw 2\\nSkipping line 3580: expected 1 fields, saw 2\\nSkipping line 3584: expected 1 fields, saw 2\\nSkipping line 3588: expected 1 fields, saw 2\\nSkipping line 3592: expected 1 fields, saw 2\\nSkipping line 3596: expected 1 fields, saw 2\\nSkipping line 3600: expected 1 fields, saw 2\\nSkipping line 3604: expected 1 fields, saw 2\\nSkipping line 3608: expected 1 fields, saw 2\\nSkipping line 3612: expected 1 fields, saw 2\\nSkipping line 3616: expected 1 fields, saw 2\\nSkipping line 3620: expected 1 fields, saw 2\\nSkipping line 3624: expected 1 fields, saw 2\\nSkipping line 3628: expected 1 fields, saw 2\\nSkipping line 3632: expected 1 fields, saw 2\\nSkipping line 3636: expected 1 fields, saw 2\\nSkipping line 3640: expected 1 fields, saw 2\\nSkipping line 3644: expected 1 fields, saw 2\\nSkipping line 3648: expected 1 fields, saw 2\\nSkipping line 3652: expected 1 fields, saw 2\\nSkipping line 3656: expected 1 fields, saw 2\\nSkipping line 3660: expected 1 fields, saw 2\\nSkipping line 3664: expected 1 fields, saw 2\\nSkipping line 3668: expected 1 fields, saw 2\\nSkipping line 3672: expected 1 fields, saw 2\\nSkipping line 3676: expected 1 fields, saw 2\\nSkipping line 3680: expected 1 fields, saw 2\\nSkipping line 3684: expected 1 fields, saw 2\\nSkipping line 3688: expected 1 fields, saw 2\\nSkipping line 3692: expected 1 fields, saw 2\\nSkipping line 3696: expected 1 fields, saw 2\\nSkipping line 3700: expected 1 fields, saw 2\\nSkipping line 3704: expected 1 fields, saw 2\\nSkipping line 3708: expected 1 fields, saw 2\\nSkipping line 3712: expected 1 fields, saw 2\\nSkipping line 3716: expected 1 fields, saw 2\\nSkipping line 3720: expected 1 fields, saw 2\\nSkipping line 3724: expected 1 fields, saw 2\\nSkipping line 3728: expected 1 fields, saw 2\\nSkipping line 3732: expected 1 fields, saw 2\\nSkipping line 3736: expected 1 fields, saw 2\\nSkipping line 3740: expected 1 fields, saw 2\\nSkipping line 3744: expected 1 fields, saw 2\\nSkipping line 3748: expected 1 fields, saw 2\\nSkipping line 3752: expected 1 fields, saw 2\\nSkipping line 3756: expected 1 fields, saw 2\\nSkipping line 3760: expected 1 fields, saw 2\\nSkipping line 3764: expected 1 fields, saw 2\\nSkipping line 3768: expected 1 fields, saw 2\\nSkipping line 3772: expected 1 fields, saw 2\\nSkipping line 3776: expected 1 fields, saw 2\\nSkipping line 3780: expected 1 fields, saw 2\\nSkipping line 3784: expected 1 fields, saw 2\\nSkipping line 3788: expected 1 fields, saw 2\\nSkipping line 3792: expected 1 fields, saw 2\\nSkipping line 3796: expected 1 fields, saw 2\\nSkipping line 3800: expected 1 fields, saw 2\\nSkipping line 3804: expected 1 fields, saw 2\\nSkipping line 3808: expected 1 fields, saw 2\\nSkipping line 3812: expected 1 fields, saw 2\\nSkipping line 3816: expected 1 fields, saw 2\\nSkipping line 3820: expected 1 fields, saw 2\\nSkipping line 3824: expected 1 fields, saw 2\\nSkipping line 3828: expected 1 fields, saw 2\\nSkipping line 3832: expected 1 fields, saw 2\\nSkipping line 3836: expected 1 fields, saw 2\\nSkipping line 3840: expected 1 fields, saw 2\\nSkipping line 3844: expected 1 fields, saw 2\\nSkipping line 3848: expected 1 fields, saw 2\\nSkipping line 3852: expected 1 fields, saw 2\\nSkipping line 3856: expected 1 fields, saw 2\\nSkipping line 3860: expected 1 fields, saw 2\\nSkipping line 3864: expected 1 fields, saw 2\\nSkipping line 3868: expected 1 fields, saw 2\\nSkipping line 3872: expected 1 fields, saw 2\\nSkipping line 3876: expected 1 fields, saw 2\\nSkipping line 3880: expected 1 fields, saw 2\\nSkipping line 3884: expected 1 fields, saw 2\\nSkipping line 3888: expected 1 fields, saw 2\\nSkipping line 3892: expected 1 fields, saw 2\\nSkipping line 3896: expected 1 fields, saw 2\\nSkipping line 3900: expected 1 fields, saw 2\\nSkipping line 3904: expected 1 fields, saw 2\\nSkipping line 3908: expected 1 fields, saw 2\\nSkipping line 3912: expected 1 fields, saw 2\\nSkipping line 3916: expected 1 fields, saw 2\\nSkipping line 3920: expected 1 fields, saw 2\\nSkipping line 3924: expected 1 fields, saw 2\\nSkipping line 3928: expected 1 fields, saw 2\\nSkipping line 3932: expected 1 fields, saw 2\\nSkipping line 3936: expected 1 fields, saw 2\\nSkipping line 3940: expected 1 fields, saw 2\\nSkipping line 3944: expected 1 fields, saw 2\\nSkipping line 3948: expected 1 fields, saw 2\\nSkipping line 3952: expected 1 fields, saw 2\\nSkipping line 3956: expected 1 fields, saw 2\\nSkipping line 3960: expected 1 fields, saw 2\\nSkipping line 3964: expected 1 fields, saw 2\\nSkipping line 3968: expected 1 fields, saw 2\\nSkipping line 3972: expected 1 fields, saw 2\\nSkipping line 3976: expected 1 fields, saw 2\\nSkipping line 3980: expected 1 fields, saw 2\\nSkipping line 3984: expected 1 fields, saw 2\\nSkipping line 3988: expected 1 fields, saw 2\\nSkipping line 3992: expected 1 fields, saw 2\\nSkipping line 3996: expected 1 fields, saw 2\\nSkipping line 4000: expected 1 fields, saw 2\\nSkipping line 4004: expected 1 fields, saw 2\\nSkipping line 4008: expected 1 fields, saw 2\\nSkipping line 4012: expected 1 fields, saw 2\\nSkipping line 4016: expected 1 fields, saw 2\\nSkipping line 4020: expected 1 fields, saw 2\\nSkipping line 4024: expected 1 fields, saw 2\\nSkipping line 4028: expected 1 fields, saw 2\\nSkipping line 4032: expected 1 fields, saw 2\\nSkipping line 4036: expected 1 fields, saw 2\\nSkipping line 4040: expected 1 fields, saw 2\\nSkipping line 4044: expected 1 fields, saw 2\\nSkipping line 4048: expected 1 fields, saw 2\\nSkipping line 4052: expected 1 fields, saw 2\\nSkipping line 4056: expected 1 fields, saw 2\\nSkipping line 4060: expected 1 fields, saw 2\\nSkipping line 4064: expected 1 fields, saw 2\\nSkipping line 4068: expected 1 fields, saw 2\\nSkipping line 4072: expected 1 fields, saw 2\\nSkipping line 4076: expected 1 fields, saw 2\\nSkipping line 4080: expected 1 fields, saw 2\\nSkipping line 4084: expected 1 fields, saw 2\\nSkipping line 4088: expected 1 fields, saw 2\\nSkipping line 4092: expected 1 fields, saw 2\\nSkipping line 4096: expected 1 fields, saw 2\\nSkipping line 4100: expected 1 fields, saw 2\\nSkipping line 4104: expected 1 fields, saw 2\\nSkipping line 4108: expected 1 fields, saw 2\\nSkipping line 4112: expected 1 fields, saw 2\\nSkipping line 4116: expected 1 fields, saw 2\\nSkipping line 4120: expected 1 fields, saw 2\\nSkipping line 4124: expected 1 fields, saw 2\\nSkipping line 4128: expected 1 fields, saw 2\\nSkipping line 4132: expected 1 fields, saw 2\\nSkipping line 4136: expected 1 fields, saw 2\\nSkipping line 4140: expected 1 fields, saw 2\\nSkipping line 4144: expected 1 fields, saw 2\\nSkipping line 4148: expected 1 fields, saw 2\\nSkipping line 4152: expected 1 fields, saw 2\\nSkipping line 4156: expected 1 fields, saw 2\\nSkipping line 4160: expected 1 fields, saw 2\\nSkipping line 4164: expected 1 fields, saw 2\\nSkipping line 4168: expected 1 fields, saw 2\\nSkipping line 4172: expected 1 fields, saw 2\\nSkipping line 4176: expected 1 fields, saw 2\\nSkipping line 4180: expected 1 fields, saw 2\\nSkipping line 4184: expected 1 fields, saw 2\\nSkipping line 4188: expected 1 fields, saw 2\\nSkipping line 4192: expected 1 fields, saw 2\\nSkipping line 4196: expected 1 fields, saw 2\\nSkipping line 4200: expected 1 fields, saw 2\\nSkipping line 4204: expected 1 fields, saw 2\\nSkipping line 4208: expected 1 fields, saw 2\\nSkipping line 4212: expected 1 fields, saw 2\\nSkipping line 4216: expected 1 fields, saw 2\\nSkipping line 4220: expected 1 fields, saw 2\\nSkipping line 4224: expected 1 fields, saw 2\\nSkipping line 4228: expected 1 fields, saw 2\\nSkipping line 4232: expected 1 fields, saw 2\\nSkipping line 4236: expected 1 fields, saw 2\\nSkipping line 4240: expected 1 fields, saw 2\\nSkipping line 4244: expected 1 fields, saw 2\\nSkipping line 4248: expected 1 fields, saw 2\\nSkipping line 4252: expected 1 fields, saw 2\\nSkipping line 4256: expected 1 fields, saw 2\\nSkipping line 4260: expected 1 fields, saw 2\\nSkipping line 4264: expected 1 fields, saw 2\\nSkipping line 4268: expected 1 fields, saw 2\\nSkipping line 4272: expected 1 fields, saw 2\\nSkipping line 4276: expected 1 fields, saw 2\\nSkipping line 4280: expected 1 fields, saw 2\\nSkipping line 4284: expected 1 fields, saw 2\\nSkipping line 4288: expected 1 fields, saw 2\\nSkipping line 4292: expected 1 fields, saw 2\\nSkipping line 4296: expected 1 fields, saw 2\\nSkipping line 4300: expected 1 fields, saw 2\\nSkipping line 4304: expected 1 fields, saw 2\\nSkipping line 4308: expected 1 fields, saw 2\\nSkipping line 4312: expected 1 fields, saw 2\\nSkipping line 4316: expected 1 fields, saw 2\\nSkipping line 4320: expected 1 fields, saw 2\\nSkipping line 4324: expected 1 fields, saw 2\\n'\n"
     ]
    },
    {
     "ename": "ParserError",
     "evalue": "Error tokenizing data. C error: Buffer overflow caught - possible malformed input file.\n",
     "output_type": "error",
     "traceback": [
      "\u001b[0;31m---------------------------------------------------------------------------\u001b[0m",
      "\u001b[0;31mParserError\u001b[0m                               Traceback (most recent call last)",
      "\u001b[0;32m<ipython-input-16-ba3dd5b87e80>\u001b[0m in \u001b[0;36m<module>\u001b[0;34m\u001b[0m\n\u001b[0;32m----> 1\u001b[0;31m \u001b[0mdata_df\u001b[0m \u001b[0;34m=\u001b[0m \u001b[0mpd\u001b[0m\u001b[0;34m.\u001b[0m\u001b[0mread_csv\u001b[0m\u001b[0;34m(\u001b[0m\u001b[0;34m'data.tar'\u001b[0m\u001b[0;34m,\u001b[0m \u001b[0mheader\u001b[0m\u001b[0;34m=\u001b[0m\u001b[0;36m0\u001b[0m\u001b[0;34m,\u001b[0m \u001b[0merror_bad_lines\u001b[0m\u001b[0;34m=\u001b[0m\u001b[0;32mFalse\u001b[0m\u001b[0;34m)\u001b[0m\u001b[0;34m\u001b[0m\u001b[0;34m\u001b[0m\u001b[0m\n\u001b[0m",
      "\u001b[0;32m/anaconda3/lib/python3.6/site-packages/pandas/io/parsers.py\u001b[0m in \u001b[0;36mparser_f\u001b[0;34m(filepath_or_buffer, sep, delimiter, header, names, index_col, usecols, squeeze, prefix, mangle_dupe_cols, dtype, engine, converters, true_values, false_values, skipinitialspace, skiprows, nrows, na_values, keep_default_na, na_filter, verbose, skip_blank_lines, parse_dates, infer_datetime_format, keep_date_col, date_parser, dayfirst, iterator, chunksize, compression, thousands, decimal, lineterminator, quotechar, quoting, escapechar, comment, encoding, dialect, tupleize_cols, error_bad_lines, warn_bad_lines, skipfooter, doublequote, delim_whitespace, low_memory, memory_map, float_precision)\u001b[0m\n\u001b[1;32m    676\u001b[0m                     skip_blank_lines=skip_blank_lines)\n\u001b[1;32m    677\u001b[0m \u001b[0;34m\u001b[0m\u001b[0m\n\u001b[0;32m--> 678\u001b[0;31m         \u001b[0;32mreturn\u001b[0m \u001b[0m_read\u001b[0m\u001b[0;34m(\u001b[0m\u001b[0mfilepath_or_buffer\u001b[0m\u001b[0;34m,\u001b[0m \u001b[0mkwds\u001b[0m\u001b[0;34m)\u001b[0m\u001b[0;34m\u001b[0m\u001b[0;34m\u001b[0m\u001b[0m\n\u001b[0m\u001b[1;32m    679\u001b[0m \u001b[0;34m\u001b[0m\u001b[0m\n\u001b[1;32m    680\u001b[0m     \u001b[0mparser_f\u001b[0m\u001b[0;34m.\u001b[0m\u001b[0m__name__\u001b[0m \u001b[0;34m=\u001b[0m \u001b[0mname\u001b[0m\u001b[0;34m\u001b[0m\u001b[0;34m\u001b[0m\u001b[0m\n",
      "\u001b[0;32m/anaconda3/lib/python3.6/site-packages/pandas/io/parsers.py\u001b[0m in \u001b[0;36m_read\u001b[0;34m(filepath_or_buffer, kwds)\u001b[0m\n\u001b[1;32m    444\u001b[0m \u001b[0;34m\u001b[0m\u001b[0m\n\u001b[1;32m    445\u001b[0m     \u001b[0;32mtry\u001b[0m\u001b[0;34m:\u001b[0m\u001b[0;34m\u001b[0m\u001b[0;34m\u001b[0m\u001b[0m\n\u001b[0;32m--> 446\u001b[0;31m         \u001b[0mdata\u001b[0m \u001b[0;34m=\u001b[0m \u001b[0mparser\u001b[0m\u001b[0;34m.\u001b[0m\u001b[0mread\u001b[0m\u001b[0;34m(\u001b[0m\u001b[0mnrows\u001b[0m\u001b[0;34m)\u001b[0m\u001b[0;34m\u001b[0m\u001b[0;34m\u001b[0m\u001b[0m\n\u001b[0m\u001b[1;32m    447\u001b[0m     \u001b[0;32mfinally\u001b[0m\u001b[0;34m:\u001b[0m\u001b[0;34m\u001b[0m\u001b[0;34m\u001b[0m\u001b[0m\n\u001b[1;32m    448\u001b[0m         \u001b[0mparser\u001b[0m\u001b[0;34m.\u001b[0m\u001b[0mclose\u001b[0m\u001b[0;34m(\u001b[0m\u001b[0;34m)\u001b[0m\u001b[0;34m\u001b[0m\u001b[0;34m\u001b[0m\u001b[0m\n",
      "\u001b[0;32m/anaconda3/lib/python3.6/site-packages/pandas/io/parsers.py\u001b[0m in \u001b[0;36mread\u001b[0;34m(self, nrows)\u001b[0m\n\u001b[1;32m   1034\u001b[0m                 \u001b[0;32mraise\u001b[0m \u001b[0mValueError\u001b[0m\u001b[0;34m(\u001b[0m\u001b[0;34m'skipfooter not supported for iteration'\u001b[0m\u001b[0;34m)\u001b[0m\u001b[0;34m\u001b[0m\u001b[0;34m\u001b[0m\u001b[0m\n\u001b[1;32m   1035\u001b[0m \u001b[0;34m\u001b[0m\u001b[0m\n\u001b[0;32m-> 1036\u001b[0;31m         \u001b[0mret\u001b[0m \u001b[0;34m=\u001b[0m \u001b[0mself\u001b[0m\u001b[0;34m.\u001b[0m\u001b[0m_engine\u001b[0m\u001b[0;34m.\u001b[0m\u001b[0mread\u001b[0m\u001b[0;34m(\u001b[0m\u001b[0mnrows\u001b[0m\u001b[0;34m)\u001b[0m\u001b[0;34m\u001b[0m\u001b[0;34m\u001b[0m\u001b[0m\n\u001b[0m\u001b[1;32m   1037\u001b[0m \u001b[0;34m\u001b[0m\u001b[0m\n\u001b[1;32m   1038\u001b[0m         \u001b[0;31m# May alter columns / col_dict\u001b[0m\u001b[0;34m\u001b[0m\u001b[0;34m\u001b[0m\u001b[0;34m\u001b[0m\u001b[0m\n",
      "\u001b[0;32m/anaconda3/lib/python3.6/site-packages/pandas/io/parsers.py\u001b[0m in \u001b[0;36mread\u001b[0;34m(self, nrows)\u001b[0m\n\u001b[1;32m   1846\u001b[0m     \u001b[0;32mdef\u001b[0m \u001b[0mread\u001b[0m\u001b[0;34m(\u001b[0m\u001b[0mself\u001b[0m\u001b[0;34m,\u001b[0m \u001b[0mnrows\u001b[0m\u001b[0;34m=\u001b[0m\u001b[0;32mNone\u001b[0m\u001b[0;34m)\u001b[0m\u001b[0;34m:\u001b[0m\u001b[0;34m\u001b[0m\u001b[0;34m\u001b[0m\u001b[0m\n\u001b[1;32m   1847\u001b[0m         \u001b[0;32mtry\u001b[0m\u001b[0;34m:\u001b[0m\u001b[0;34m\u001b[0m\u001b[0;34m\u001b[0m\u001b[0m\n\u001b[0;32m-> 1848\u001b[0;31m             \u001b[0mdata\u001b[0m \u001b[0;34m=\u001b[0m \u001b[0mself\u001b[0m\u001b[0;34m.\u001b[0m\u001b[0m_reader\u001b[0m\u001b[0;34m.\u001b[0m\u001b[0mread\u001b[0m\u001b[0;34m(\u001b[0m\u001b[0mnrows\u001b[0m\u001b[0;34m)\u001b[0m\u001b[0;34m\u001b[0m\u001b[0;34m\u001b[0m\u001b[0m\n\u001b[0m\u001b[1;32m   1849\u001b[0m         \u001b[0;32mexcept\u001b[0m \u001b[0mStopIteration\u001b[0m\u001b[0;34m:\u001b[0m\u001b[0;34m\u001b[0m\u001b[0;34m\u001b[0m\u001b[0m\n\u001b[1;32m   1850\u001b[0m             \u001b[0;32mif\u001b[0m \u001b[0mself\u001b[0m\u001b[0;34m.\u001b[0m\u001b[0m_first_chunk\u001b[0m\u001b[0;34m:\u001b[0m\u001b[0;34m\u001b[0m\u001b[0;34m\u001b[0m\u001b[0m\n",
      "\u001b[0;32mpandas/_libs/parsers.pyx\u001b[0m in \u001b[0;36mpandas._libs.parsers.TextReader.read\u001b[0;34m()\u001b[0m\n",
      "\u001b[0;32mpandas/_libs/parsers.pyx\u001b[0m in \u001b[0;36mpandas._libs.parsers.TextReader._read_low_memory\u001b[0;34m()\u001b[0m\n",
      "\u001b[0;32mpandas/_libs/parsers.pyx\u001b[0m in \u001b[0;36mpandas._libs.parsers.TextReader._read_rows\u001b[0;34m()\u001b[0m\n",
      "\u001b[0;32mpandas/_libs/parsers.pyx\u001b[0m in \u001b[0;36mpandas._libs.parsers.TextReader._tokenize_rows\u001b[0;34m()\u001b[0m\n",
      "\u001b[0;32mpandas/_libs/parsers.pyx\u001b[0m in \u001b[0;36mpandas._libs.parsers.raise_parser_error\u001b[0;34m()\u001b[0m\n",
      "\u001b[0;31mParserError\u001b[0m: Error tokenizing data. C error: Buffer overflow caught - possible malformed input file.\n"
     ]
    }
   ],
   "source": [
    "data_df = pd.read_csv('data.tar', header=0, error_bad_lines=False)"
   ]
  },
  {
   "cell_type": "code",
   "execution_count": 15,
   "metadata": {},
   "outputs": [
    {
     "data": {
      "text/html": [
       "<div>\n",
       "<style scoped>\n",
       "    .dataframe tbody tr th:only-of-type {\n",
       "        vertical-align: middle;\n",
       "    }\n",
       "\n",
       "    .dataframe tbody tr th {\n",
       "        vertical-align: top;\n",
       "    }\n",
       "\n",
       "    .dataframe thead th {\n",
       "        text-align: right;\n",
       "    }\n",
       "</style>\n",
       "<table border=\"1\" class=\"dataframe\">\n",
       "  <thead>\n",
       "    <tr style=\"text-align: right;\">\n",
       "      <th></th>\n",
       "      <th>Unnamed: 0</th>\n",
       "    </tr>\n",
       "  </thead>\n",
       "  <tbody>\n",
       "  </tbody>\n",
       "</table>\n",
       "</div>"
      ],
      "text/plain": [
       "Empty DataFrame\n",
       "Columns: [Unnamed: 0]\n",
       "Index: []"
      ]
     },
     "execution_count": 15,
     "metadata": {},
     "output_type": "execute_result"
    }
   ],
   "source": [
    "data_df.head()"
   ]
  },
  {
   "cell_type": "code",
   "execution_count": 12,
   "metadata": {},
   "outputs": [
    {
     "ename": "UnicodeDecodeError",
     "evalue": "'utf-8' codec can't decode byte 0x8b in position 1: invalid start byte",
     "output_type": "error",
     "traceback": [
      "\u001b[0;31m---------------------------------------------------------------------------\u001b[0m",
      "\u001b[0;31mUnicodeDecodeError\u001b[0m                        Traceback (most recent call last)",
      "\u001b[0;32m<ipython-input-12-d3cc8e03d9a3>\u001b[0m in \u001b[0;36m<module>\u001b[0;34m\u001b[0m\n\u001b[0;32m----> 1\u001b[0;31m \u001b[0mtest_two\u001b[0m \u001b[0;34m=\u001b[0m \u001b[0mpd\u001b[0m\u001b[0;34m.\u001b[0m\u001b[0mread_csv\u001b[0m\u001b[0;34m(\u001b[0m\u001b[0;34m'test_two.tar.cpgz'\u001b[0m\u001b[0;34m)\u001b[0m\u001b[0;34m\u001b[0m\u001b[0;34m\u001b[0m\u001b[0m\n\u001b[0m",
      "\u001b[0;32m/anaconda3/lib/python3.6/site-packages/pandas/io/parsers.py\u001b[0m in \u001b[0;36mparser_f\u001b[0;34m(filepath_or_buffer, sep, delimiter, header, names, index_col, usecols, squeeze, prefix, mangle_dupe_cols, dtype, engine, converters, true_values, false_values, skipinitialspace, skiprows, nrows, na_values, keep_default_na, na_filter, verbose, skip_blank_lines, parse_dates, infer_datetime_format, keep_date_col, date_parser, dayfirst, iterator, chunksize, compression, thousands, decimal, lineterminator, quotechar, quoting, escapechar, comment, encoding, dialect, tupleize_cols, error_bad_lines, warn_bad_lines, skipfooter, doublequote, delim_whitespace, low_memory, memory_map, float_precision)\u001b[0m\n\u001b[1;32m    676\u001b[0m                     skip_blank_lines=skip_blank_lines)\n\u001b[1;32m    677\u001b[0m \u001b[0;34m\u001b[0m\u001b[0m\n\u001b[0;32m--> 678\u001b[0;31m         \u001b[0;32mreturn\u001b[0m \u001b[0m_read\u001b[0m\u001b[0;34m(\u001b[0m\u001b[0mfilepath_or_buffer\u001b[0m\u001b[0;34m,\u001b[0m \u001b[0mkwds\u001b[0m\u001b[0;34m)\u001b[0m\u001b[0;34m\u001b[0m\u001b[0;34m\u001b[0m\u001b[0m\n\u001b[0m\u001b[1;32m    679\u001b[0m \u001b[0;34m\u001b[0m\u001b[0m\n\u001b[1;32m    680\u001b[0m     \u001b[0mparser_f\u001b[0m\u001b[0;34m.\u001b[0m\u001b[0m__name__\u001b[0m \u001b[0;34m=\u001b[0m \u001b[0mname\u001b[0m\u001b[0;34m\u001b[0m\u001b[0;34m\u001b[0m\u001b[0m\n",
      "\u001b[0;32m/anaconda3/lib/python3.6/site-packages/pandas/io/parsers.py\u001b[0m in \u001b[0;36m_read\u001b[0;34m(filepath_or_buffer, kwds)\u001b[0m\n\u001b[1;32m    438\u001b[0m \u001b[0;34m\u001b[0m\u001b[0m\n\u001b[1;32m    439\u001b[0m     \u001b[0;31m# Create the parser.\u001b[0m\u001b[0;34m\u001b[0m\u001b[0;34m\u001b[0m\u001b[0;34m\u001b[0m\u001b[0m\n\u001b[0;32m--> 440\u001b[0;31m     \u001b[0mparser\u001b[0m \u001b[0;34m=\u001b[0m \u001b[0mTextFileReader\u001b[0m\u001b[0;34m(\u001b[0m\u001b[0mfilepath_or_buffer\u001b[0m\u001b[0;34m,\u001b[0m \u001b[0;34m**\u001b[0m\u001b[0mkwds\u001b[0m\u001b[0;34m)\u001b[0m\u001b[0;34m\u001b[0m\u001b[0;34m\u001b[0m\u001b[0m\n\u001b[0m\u001b[1;32m    441\u001b[0m \u001b[0;34m\u001b[0m\u001b[0m\n\u001b[1;32m    442\u001b[0m     \u001b[0;32mif\u001b[0m \u001b[0mchunksize\u001b[0m \u001b[0;32mor\u001b[0m \u001b[0miterator\u001b[0m\u001b[0;34m:\u001b[0m\u001b[0;34m\u001b[0m\u001b[0;34m\u001b[0m\u001b[0m\n",
      "\u001b[0;32m/anaconda3/lib/python3.6/site-packages/pandas/io/parsers.py\u001b[0m in \u001b[0;36m__init__\u001b[0;34m(self, f, engine, **kwds)\u001b[0m\n\u001b[1;32m    785\u001b[0m             \u001b[0mself\u001b[0m\u001b[0;34m.\u001b[0m\u001b[0moptions\u001b[0m\u001b[0;34m[\u001b[0m\u001b[0;34m'has_index_names'\u001b[0m\u001b[0;34m]\u001b[0m \u001b[0;34m=\u001b[0m \u001b[0mkwds\u001b[0m\u001b[0;34m[\u001b[0m\u001b[0;34m'has_index_names'\u001b[0m\u001b[0;34m]\u001b[0m\u001b[0;34m\u001b[0m\u001b[0;34m\u001b[0m\u001b[0m\n\u001b[1;32m    786\u001b[0m \u001b[0;34m\u001b[0m\u001b[0m\n\u001b[0;32m--> 787\u001b[0;31m         \u001b[0mself\u001b[0m\u001b[0;34m.\u001b[0m\u001b[0m_make_engine\u001b[0m\u001b[0;34m(\u001b[0m\u001b[0mself\u001b[0m\u001b[0;34m.\u001b[0m\u001b[0mengine\u001b[0m\u001b[0;34m)\u001b[0m\u001b[0;34m\u001b[0m\u001b[0;34m\u001b[0m\u001b[0m\n\u001b[0m\u001b[1;32m    788\u001b[0m \u001b[0;34m\u001b[0m\u001b[0m\n\u001b[1;32m    789\u001b[0m     \u001b[0;32mdef\u001b[0m \u001b[0mclose\u001b[0m\u001b[0;34m(\u001b[0m\u001b[0mself\u001b[0m\u001b[0;34m)\u001b[0m\u001b[0;34m:\u001b[0m\u001b[0;34m\u001b[0m\u001b[0;34m\u001b[0m\u001b[0m\n",
      "\u001b[0;32m/anaconda3/lib/python3.6/site-packages/pandas/io/parsers.py\u001b[0m in \u001b[0;36m_make_engine\u001b[0;34m(self, engine)\u001b[0m\n\u001b[1;32m   1012\u001b[0m     \u001b[0;32mdef\u001b[0m \u001b[0m_make_engine\u001b[0m\u001b[0;34m(\u001b[0m\u001b[0mself\u001b[0m\u001b[0;34m,\u001b[0m \u001b[0mengine\u001b[0m\u001b[0;34m=\u001b[0m\u001b[0;34m'c'\u001b[0m\u001b[0;34m)\u001b[0m\u001b[0;34m:\u001b[0m\u001b[0;34m\u001b[0m\u001b[0;34m\u001b[0m\u001b[0m\n\u001b[1;32m   1013\u001b[0m         \u001b[0;32mif\u001b[0m \u001b[0mengine\u001b[0m \u001b[0;34m==\u001b[0m \u001b[0;34m'c'\u001b[0m\u001b[0;34m:\u001b[0m\u001b[0;34m\u001b[0m\u001b[0;34m\u001b[0m\u001b[0m\n\u001b[0;32m-> 1014\u001b[0;31m             \u001b[0mself\u001b[0m\u001b[0;34m.\u001b[0m\u001b[0m_engine\u001b[0m \u001b[0;34m=\u001b[0m \u001b[0mCParserWrapper\u001b[0m\u001b[0;34m(\u001b[0m\u001b[0mself\u001b[0m\u001b[0;34m.\u001b[0m\u001b[0mf\u001b[0m\u001b[0;34m,\u001b[0m \u001b[0;34m**\u001b[0m\u001b[0mself\u001b[0m\u001b[0;34m.\u001b[0m\u001b[0moptions\u001b[0m\u001b[0;34m)\u001b[0m\u001b[0;34m\u001b[0m\u001b[0;34m\u001b[0m\u001b[0m\n\u001b[0m\u001b[1;32m   1015\u001b[0m         \u001b[0;32melse\u001b[0m\u001b[0;34m:\u001b[0m\u001b[0;34m\u001b[0m\u001b[0;34m\u001b[0m\u001b[0m\n\u001b[1;32m   1016\u001b[0m             \u001b[0;32mif\u001b[0m \u001b[0mengine\u001b[0m \u001b[0;34m==\u001b[0m \u001b[0;34m'python'\u001b[0m\u001b[0;34m:\u001b[0m\u001b[0;34m\u001b[0m\u001b[0;34m\u001b[0m\u001b[0m\n",
      "\u001b[0;32m/anaconda3/lib/python3.6/site-packages/pandas/io/parsers.py\u001b[0m in \u001b[0;36m__init__\u001b[0;34m(self, src, **kwds)\u001b[0m\n\u001b[1;32m   1706\u001b[0m         \u001b[0mkwds\u001b[0m\u001b[0;34m[\u001b[0m\u001b[0;34m'usecols'\u001b[0m\u001b[0;34m]\u001b[0m \u001b[0;34m=\u001b[0m \u001b[0mself\u001b[0m\u001b[0;34m.\u001b[0m\u001b[0musecols\u001b[0m\u001b[0;34m\u001b[0m\u001b[0;34m\u001b[0m\u001b[0m\n\u001b[1;32m   1707\u001b[0m \u001b[0;34m\u001b[0m\u001b[0m\n\u001b[0;32m-> 1708\u001b[0;31m         \u001b[0mself\u001b[0m\u001b[0;34m.\u001b[0m\u001b[0m_reader\u001b[0m \u001b[0;34m=\u001b[0m \u001b[0mparsers\u001b[0m\u001b[0;34m.\u001b[0m\u001b[0mTextReader\u001b[0m\u001b[0;34m(\u001b[0m\u001b[0msrc\u001b[0m\u001b[0;34m,\u001b[0m \u001b[0;34m**\u001b[0m\u001b[0mkwds\u001b[0m\u001b[0;34m)\u001b[0m\u001b[0;34m\u001b[0m\u001b[0;34m\u001b[0m\u001b[0m\n\u001b[0m\u001b[1;32m   1709\u001b[0m \u001b[0;34m\u001b[0m\u001b[0m\n\u001b[1;32m   1710\u001b[0m         \u001b[0mpassed_names\u001b[0m \u001b[0;34m=\u001b[0m \u001b[0mself\u001b[0m\u001b[0;34m.\u001b[0m\u001b[0mnames\u001b[0m \u001b[0;32mis\u001b[0m \u001b[0;32mNone\u001b[0m\u001b[0;34m\u001b[0m\u001b[0;34m\u001b[0m\u001b[0m\n",
      "\u001b[0;32mpandas/_libs/parsers.pyx\u001b[0m in \u001b[0;36mpandas._libs.parsers.TextReader.__cinit__\u001b[0;34m()\u001b[0m\n",
      "\u001b[0;32mpandas/_libs/parsers.pyx\u001b[0m in \u001b[0;36mpandas._libs.parsers.TextReader._get_header\u001b[0;34m()\u001b[0m\n",
      "\u001b[0;31mUnicodeDecodeError\u001b[0m: 'utf-8' codec can't decode byte 0x8b in position 1: invalid start byte"
     ]
    }
   ],
   "source": [
    "test_two = pd.read_csv('test_two.tar.cpgz')"
   ]
  },
  {
   "cell_type": "code",
   "execution_count": 11,
   "metadata": {},
   "outputs": [
    {
     "data": {
      "text/html": [
       "<div>\n",
       "<style scoped>\n",
       "    .dataframe tbody tr th:only-of-type {\n",
       "        vertical-align: middle;\n",
       "    }\n",
       "\n",
       "    .dataframe tbody tr th {\n",
       "        vertical-align: top;\n",
       "    }\n",
       "\n",
       "    .dataframe thead th {\n",
       "        text-align: right;\n",
       "    }\n",
       "</style>\n",
       "<table border=\"1\" class=\"dataframe\">\n",
       "  <thead>\n",
       "    <tr style=\"text-align: right;\">\n",
       "      <th></th>\n",
       "      <th>Unnamed: 0</th>\n",
       "    </tr>\n",
       "  </thead>\n",
       "  <tbody>\n",
       "  </tbody>\n",
       "</table>\n",
       "</div>"
      ],
      "text/plain": [
       "Empty DataFrame\n",
       "Columns: [Unnamed: 0]\n",
       "Index: []"
      ]
     },
     "execution_count": 11,
     "metadata": {},
     "output_type": "execute_result"
    }
   ],
   "source": [
    "test_two.head()"
   ]
  }
 ],
 "metadata": {
  "kernelspec": {
   "display_name": "Python 3",
   "language": "python",
   "name": "python3"
  },
  "language_info": {
   "codemirror_mode": {
    "name": "ipython",
    "version": 3
   },
   "file_extension": ".py",
   "mimetype": "text/x-python",
   "name": "python",
   "nbconvert_exporter": "python",
   "pygments_lexer": "ipython3",
   "version": "3.6.7"
  }
 },
 "nbformat": 4,
 "nbformat_minor": 2
}
