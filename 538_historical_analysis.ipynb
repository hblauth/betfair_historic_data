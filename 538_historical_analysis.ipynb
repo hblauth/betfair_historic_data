{
 "metadata": {
  "language_info": {
   "codemirror_mode": {
    "name": "ipython",
    "version": 3
   },
   "file_extension": ".py",
   "mimetype": "text/x-python",
   "name": "python",
   "nbconvert_exporter": "python",
   "pygments_lexer": "ipython3",
   "version": "3.8.5-final"
  },
  "orig_nbformat": 2,
  "kernelspec": {
   "name": "python_defaultSpec_1597864674514",
   "display_name": "Python 3.8.5 64-bit"
  }
 },
 "nbformat": 4,
 "nbformat_minor": 2,
 "cells": [
  {
   "cell_type": "code",
   "execution_count": 2,
   "metadata": {},
   "outputs": [
    {
     "output_type": "error",
     "ename": "ModuleNotFoundError",
     "evalue": "No module named 'pandas'",
     "traceback": [
      "\u001b[0;31m---------------------------------------------------------------------------\u001b[0m",
      "\u001b[0;31mModuleNotFoundError\u001b[0m                       Traceback (most recent call last)",
      "\u001b[0;32m<ipython-input-2-c2c5b9091469>\u001b[0m in \u001b[0;36m<module>\u001b[0;34m\u001b[0m\n\u001b[0;32m----> 1\u001b[0;31m \u001b[0;32mimport\u001b[0m \u001b[0mpandas\u001b[0m \u001b[0;32mas\u001b[0m \u001b[0mpd\u001b[0m\u001b[0;34m\u001b[0m\u001b[0;34m\u001b[0m\u001b[0m\n\u001b[0m\u001b[1;32m      2\u001b[0m \u001b[0;32mimport\u001b[0m \u001b[0mdatetime\u001b[0m \u001b[0;32mas\u001b[0m \u001b[0mdt\u001b[0m\u001b[0;34m\u001b[0m\u001b[0;34m\u001b[0m\u001b[0m\n",
      "\u001b[0;31mModuleNotFoundError\u001b[0m: No module named 'pandas'"
     ]
    }
   ],
   "source": [
    "import pandas as pd\n",
    "import datetime as dt"
   ]
  },
  {
   "cell_type": "code",
   "execution_count": null,
   "metadata": {},
   "outputs": [],
   "source": [
    "\n",
    "\n",
    "spi_url = 'https://projects.fivethirtyeight.com/soccer-api/club/spi_matches.csv'\n",
    "\n",
    "spi_data = pd.read_csv(spi_url)\n",
    "\n",
    "lookup_date = dt.date.today().strftime('%Y-%m-%d')\n",
    "\n",
    "matches_today = spi_data[spi_data['date'] == lookup_date]\n",
    "\n",
    "print(matches_today[['league', 'team1', 'team2']])\n",
    "\n",
    "for idx, match in matches_today.iterrows():\n",
    "    league = match['league']\n",
    "    match_day = match['date']\n",
    "    home_team = match['team1']\n",
    "    away_team = match['team2']\n",
    "    home_odds = match['prob1']\n",
    "    away_odds = match['prob2']\n",
    "    draw_odds = match['probtie']\n",
    "\n",
    "    print(F'On: {match_day} in {league}\\n'\n",
    "          F'{home_team} win probability: {home_odds}\\n'\n",
    "          F'{away_team} win probability: {away_odds}\\n'\n",
    "          F'Draw: {draw_odds}\\n')\n"
   ]
  }
 ]
}