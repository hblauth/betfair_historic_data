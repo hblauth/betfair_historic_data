{
 "metadata": {
  "language_info": {
   "codemirror_mode": {
    "name": "ipython",
    "version": 3
   },
   "file_extension": ".py",
   "mimetype": "text/x-python",
   "name": "python",
   "nbconvert_exporter": "python",
   "pygments_lexer": "ipython3",
   "version": "3.8.5-final"
  },
  "orig_nbformat": 2,
  "kernelspec": {
   "name": "python_defaultSpec_1597866199790",
   "display_name": "Python 3.8.5 64-bit ('BI_venv': conda)"
  }
 },
 "nbformat": 4,
 "nbformat_minor": 2,
 "cells": [
  {
   "cell_type": "markdown",
   "metadata": {},
   "source": [
    "# 538 betting method historical analysis\n",
    "\n",
    "### To Do:\n",
    "- [ ] Load 538 predictions\n",
    "- [ ] Pull odds on matches (esp betfair exchange)\n",
    "- [ ] Calculate ∆\n",
    "- [ ] Calculate Expected value of bets\n",
    "- [ ] Analyse different strategies implementing kelly criterion\n",
    "\n",
    "### Next level:\n",
    "- [ ] Look at odds / prediction development over time"
   ]
  },
  {
   "cell_type": "code",
   "execution_count": 21,
   "metadata": {},
   "outputs": [],
   "source": [
    "import pandas as pd\n",
    "import numpy as np\n",
    "from pathlib import Path"
   ]
  },
  {
   "cell_type": "code",
   "execution_count": 16,
   "metadata": {},
   "outputs": [],
   "source": [
    "pd.set_option('max_columns', 200)\n",
    "pd.set_option('max_rows', 200)"
   ]
  },
  {
   "cell_type": "code",
   "execution_count": 10,
   "metadata": {},
   "outputs": [],
   "source": [
    "root_path = Path('/Users/henry/code/projects/538_betting')"
   ]
  },
  {
   "cell_type": "markdown",
   "metadata": {},
   "source": [
    "## 1. Load 538 predictions"
   ]
  },
  {
   "cell_type": "code",
   "execution_count": 2,
   "metadata": {},
   "outputs": [],
   "source": [
    "spi_url = 'https://projects.fivethirtyeight.com/soccer-api/club/spi_matches.csv'\n",
    "spi_data = pd.read_csv(spi_url)"
   ]
  },
  {
   "cell_type": "markdown",
   "metadata": {},
   "source": [
    "#### Which leagues are covered?"
   ]
  },
  {
   "cell_type": "code",
   "execution_count": 6,
   "metadata": {},
   "outputs": [
    {
     "output_type": "execute_result",
     "data": {
      "text/plain": "English League Championship                 1671\nBrasileiro Série A                          1520\nBarclays Premier League                     1520\nItaly Serie A                               1520\nFrench Ligue 1                              1520\nSpanish Primera Division                    1520\nUnited Soccer League                        1487\nSpanish Segunda Division                    1403\nMajor League Soccer                         1377\nGerman Bundesliga                           1224\nItaly Serie B                               1214\nFrench Ligue 2                              1140\nEnglish League Two                          1002\nArgentina Primera Division                   979\nEnglish League One                           962\nNorwegian Tippeligaen                        960\nRussian Premier Liga                         960\nSwedish Allsvenskan                          960\nDutch Eredivisie                             918\nTurkish Turkcell Super Lig                   918\nPortuguese Liga                              918\nGerman 2. Bundesliga                         918\nScottish Premiership                         852\nJapanese J League                            759\nMexican Primera Division Torneo Apertura     672\nMexican Primera Division Torneo Clausura     654\nUEFA Europa League                           607\nAustrian T-Mobile Bundesliga                 570\nSwiss Raiffeisen Super League                540\nBelgian Jupiler League                       510\nUEFA Champions League                        493\nDanish SAS-Ligaen                            486\nGreek Super League                           480\nSouth African ABSA Premier League            480\nNational Women's Soccer League               450\nChinese Super League                         369\nAustralian A-League                          284\nNWSL Challenge Cup                            23\nName: league, dtype: int64"
     },
     "metadata": {},
     "execution_count": 6
    }
   ],
   "source": [
    "spi_data['league'].value_counts()"
   ]
  },
  {
   "cell_type": "markdown",
   "metadata": {},
   "source": [
    "#### When are earliest predictions?"
   ]
  },
  {
   "cell_type": "code",
   "execution_count": 7,
   "metadata": {},
   "outputs": [
    {
     "output_type": "execute_result",
     "data": {
      "text/plain": "'2016-08-12'"
     },
     "metadata": {},
     "execution_count": 7
    }
   ],
   "source": [
    "spi_data['date'].min()"
   ]
  },
  {
   "cell_type": "markdown",
   "metadata": {},
   "source": [
    "## 2. Load match odds"
   ]
  },
  {
   "cell_type": "markdown",
   "metadata": {},
   "source": [
    "football-data.co.uk"
   ]
  },
  {
   "cell_type": "markdown",
   "metadata": {},
   "source": [
    "#### Check 19/20 prem first"
   ]
  },
  {
   "cell_type": "code",
   "execution_count": null,
   "metadata": {},
   "outputs": [],
   "source": [
    "base_url = https://www.football-data.co.uk/mmz4281\n",
    "season = 1617\n",
    "league = E0\n",
    "\n",
    "fbd_url = base_url + '/' + season + '/' + league + '.csv'"
   ]
  },
  {
   "cell_type": "code",
   "execution_count": 11,
   "metadata": {},
   "outputs": [],
   "source": [
    "fb_epl_1920 = pd.read_csv(root_path / 'data/01_raw/EPL/EPL1920_fb-data.csv')"
   ]
  },
  {
   "cell_type": "code",
   "execution_count": 18,
   "metadata": {},
   "outputs": [
    {
     "output_type": "execute_result",
     "data": {
      "text/plain": "  Div        Date   Time        HomeTeam          AwayTeam  FTHG  FTAG FTR  \\\n0  E0  09/08/2019  20:00       Liverpool           Norwich     4     1   H   \n1  E0  10/08/2019  12:30        West Ham          Man City     0     5   A   \n2  E0  10/08/2019  15:00     Bournemouth  Sheffield United     1     1   D   \n3  E0  10/08/2019  15:00         Burnley       Southampton     3     0   H   \n4  E0  10/08/2019  15:00  Crystal Palace           Everton     0     0   D   \n\n   HTHG  HTAG HTR   Referee  HS  AS  HST  AST  HF  AF  HC  AC  HY  AY  HR  AR  \\\n0     4     0   H  M Oliver  15  12    7    5   9   9  11   2   0   2   0   0   \n1     0     1   A    M Dean   5  14    3    9   6  13   1   1   2   2   0   0   \n2     0     0   D  K Friend  13   8    3    3  10  19   3   4   2   1   0   0   \n3     0     0   D   G Scott  10  11    4    3   6  12   2   7   0   0   0   0   \n4     0     0   D    J Moss   6  10    2    3  16  14   6   2   2   1   0   1   \n\n   B365H  B365D  B365A    BWH   BWD    BWA    IWH   IWD    IWA    PSH   PSD  \\\n0   1.14  10.00  19.00   1.14  8.25  18.50   1.15  8.00  18.00   1.15  9.59   \n1  12.00   6.50   1.22  11.50  5.75   1.26  11.00  6.10   1.25  11.68  6.53   \n2   1.95   3.60   3.60   1.95  3.60   3.90   1.97  3.55   3.80   2.04  3.57   \n3   2.62   3.20   2.75   2.65  3.20   2.75   2.65  3.20   2.75   2.71  3.31   \n4   3.00   3.25   2.37   3.20  3.20   2.35   3.10  3.20   2.40   3.21  3.37   \n\n     PSA    WHH  WHD    WHA    VCH  VCD    VCA   MaxH   MaxD   MaxA   AvgH  \\\n0  18.05   1.12  8.5  21.00   1.14  9.5  23.00   1.16  10.00  23.00   1.14   \n1   1.26  13.00  6.0   1.24  12.00  6.5   1.25  13.00   6.75   1.29  11.84   \n2   3.90   2.00  3.5   3.80   2.00  3.6   4.00   2.06   3.65   4.00   2.01   \n3   2.81   2.70  3.2   2.75   2.70  3.3   2.80   2.80   3.33   2.85   2.68   \n4   2.39   3.10  3.3   2.35   3.20  3.3   2.45   3.21   3.40   2.52   3.13   \n\n   AvgD   AvgA  B365>2.5  B365<2.5  P>2.5  P<2.5  Max>2.5  Max<2.5  Avg>2.5  \\\n0  8.75  19.83      1.40      3.00   1.40   3.11     1.45     3.11     1.41   \n1  6.28   1.25      1.44      2.75   1.49   2.77     1.51     2.77     1.48   \n2  3.53   3.83      1.90      1.90   1.96   1.96     2.00     1.99     1.90   \n3  3.22   2.78      2.10      1.72   2.17   1.77     2.20     1.78     2.12   \n4  3.27   2.40      2.20      1.66   2.23   1.74     2.25     1.74     2.18   \n\n   Avg<2.5   AHh  B365AHH  B365AHA  PAHH  PAHA  MaxAHH  MaxAHA  AvgAHH  \\\n0     2.92 -2.25     1.96     1.94  1.97  1.95    1.97    2.00    1.94   \n1     2.65  1.75     2.00     1.90  2.02  1.90    2.02    1.92    1.99   \n2     1.93 -0.50     2.01     1.89  2.04  1.88    2.04    1.91    2.00   \n3     1.73  0.00     1.92     1.98  1.93  2.00    1.94    2.00    1.91   \n4     1.70  0.25     1.85     2.05  1.88  2.05    1.88    2.09    1.84   \n\n   AvgAHA  B365CH  B365CD  B365CA   BWCH  BWCD   BWCA   IWCH  IWCD   IWCA  \\\n0    1.94    1.14    9.50   21.00   1.14   9.0  20.00   1.15  8.00  18.00   \n1    1.89   12.00    7.00    1.25  11.00   6.0   1.26  11.00  6.10   1.25   \n2    1.88    1.95    3.70    4.20   1.95   3.6   3.90   1.97  3.55   3.85   \n3    1.98    2.70    3.25    2.90   2.65   3.1   2.85   2.60  3.20   2.85   \n4    2.04    3.40    3.50    2.25   3.30   3.3   2.25   3.40  3.30   2.20   \n\n    PSCH   PSCD   PSCA   WHCH  WHCD   WHCA   VCCH  VCCD   VCCA  MaxCH  MaxCD  \\\n0   1.14  10.43  19.63   1.11   9.5  21.00   1.14  9.50  23.00   1.16  10.50   \n1  11.11   6.68   1.27  11.00   6.5   1.24  12.00  6.50   1.25  13.00   7.00   \n2   1.98   3.67   4.06   1.95   3.6   3.90   2.00  3.60   4.00   2.03   3.70   \n3   2.71   3.19   2.90   2.62   3.2   2.80   2.70  3.25   2.90   2.72   3.26   \n4   3.37   3.45   2.27   3.30   3.3   2.25   3.40  3.30   2.25   3.55   3.50   \n\n   MaxCA  AvgCH  AvgCD  AvgCA  B365C>2.5  B365C<2.5  PC>2.5  PC<2.5  MaxC>2.5  \\\n0  23.00   1.14   9.52  19.18        1.3       3.50    1.34    3.44      1.36   \n1   1.29  11.14   6.46   1.26        1.4       3.00    1.43    3.03      1.50   \n2   4.20   1.98   3.58   3.96        1.9       1.90    1.94    1.97      1.97   \n3   2.95   2.65   3.18   2.88        2.1       1.72    2.19    1.76      2.25   \n4   2.34   3.41   3.37   2.23        2.2       1.66    2.22    1.74      2.28   \n\n   MaxC<2.5  AvgC>2.5  AvgC<2.5  AHCh  B365CAHH  B365CAHA  PCAHH  PCAHA  \\\n0      3.76      1.32      3.43 -2.25      1.91      1.99   1.94   1.98   \n1      3.22      1.41      2.91  1.75      1.95      1.95   1.96   1.97   \n2      1.98      1.91      1.92 -0.50      1.95      1.95   1.98   1.95   \n3      1.78      2.17      1.71  0.00      1.87      2.03   1.89   2.03   \n4      1.77      2.17      1.71  0.25      1.82      2.08   1.97   1.96   \n\n   MaxCAHH  MaxCAHA  AvgCAHH  AvgCAHA  \n0     1.99     2.07     1.90     1.99  \n1     2.07     1.98     1.97     1.92  \n2     2.00     1.96     1.96     1.92  \n3     1.90     2.07     1.86     2.02  \n4     2.03     2.08     1.96     1.93  ",
      "text/html": "<div>\n<style scoped>\n    .dataframe tbody tr th:only-of-type {\n        vertical-align: middle;\n    }\n\n    .dataframe tbody tr th {\n        vertical-align: top;\n    }\n\n    .dataframe thead th {\n        text-align: right;\n    }\n</style>\n<table border=\"1\" class=\"dataframe\">\n  <thead>\n    <tr style=\"text-align: right;\">\n      <th></th>\n      <th>Div</th>\n      <th>Date</th>\n      <th>Time</th>\n      <th>HomeTeam</th>\n      <th>AwayTeam</th>\n      <th>FTHG</th>\n      <th>FTAG</th>\n      <th>FTR</th>\n      <th>HTHG</th>\n      <th>HTAG</th>\n      <th>HTR</th>\n      <th>Referee</th>\n      <th>HS</th>\n      <th>AS</th>\n      <th>HST</th>\n      <th>AST</th>\n      <th>HF</th>\n      <th>AF</th>\n      <th>HC</th>\n      <th>AC</th>\n      <th>HY</th>\n      <th>AY</th>\n      <th>HR</th>\n      <th>AR</th>\n      <th>B365H</th>\n      <th>B365D</th>\n      <th>B365A</th>\n      <th>BWH</th>\n      <th>BWD</th>\n      <th>BWA</th>\n      <th>IWH</th>\n      <th>IWD</th>\n      <th>IWA</th>\n      <th>PSH</th>\n      <th>PSD</th>\n      <th>PSA</th>\n      <th>WHH</th>\n      <th>WHD</th>\n      <th>WHA</th>\n      <th>VCH</th>\n      <th>VCD</th>\n      <th>VCA</th>\n      <th>MaxH</th>\n      <th>MaxD</th>\n      <th>MaxA</th>\n      <th>AvgH</th>\n      <th>AvgD</th>\n      <th>AvgA</th>\n      <th>B365&gt;2.5</th>\n      <th>B365&lt;2.5</th>\n      <th>P&gt;2.5</th>\n      <th>P&lt;2.5</th>\n      <th>Max&gt;2.5</th>\n      <th>Max&lt;2.5</th>\n      <th>Avg&gt;2.5</th>\n      <th>Avg&lt;2.5</th>\n      <th>AHh</th>\n      <th>B365AHH</th>\n      <th>B365AHA</th>\n      <th>PAHH</th>\n      <th>PAHA</th>\n      <th>MaxAHH</th>\n      <th>MaxAHA</th>\n      <th>AvgAHH</th>\n      <th>AvgAHA</th>\n      <th>B365CH</th>\n      <th>B365CD</th>\n      <th>B365CA</th>\n      <th>BWCH</th>\n      <th>BWCD</th>\n      <th>BWCA</th>\n      <th>IWCH</th>\n      <th>IWCD</th>\n      <th>IWCA</th>\n      <th>PSCH</th>\n      <th>PSCD</th>\n      <th>PSCA</th>\n      <th>WHCH</th>\n      <th>WHCD</th>\n      <th>WHCA</th>\n      <th>VCCH</th>\n      <th>VCCD</th>\n      <th>VCCA</th>\n      <th>MaxCH</th>\n      <th>MaxCD</th>\n      <th>MaxCA</th>\n      <th>AvgCH</th>\n      <th>AvgCD</th>\n      <th>AvgCA</th>\n      <th>B365C&gt;2.5</th>\n      <th>B365C&lt;2.5</th>\n      <th>PC&gt;2.5</th>\n      <th>PC&lt;2.5</th>\n      <th>MaxC&gt;2.5</th>\n      <th>MaxC&lt;2.5</th>\n      <th>AvgC&gt;2.5</th>\n      <th>AvgC&lt;2.5</th>\n      <th>AHCh</th>\n      <th>B365CAHH</th>\n      <th>B365CAHA</th>\n      <th>PCAHH</th>\n      <th>PCAHA</th>\n      <th>MaxCAHH</th>\n      <th>MaxCAHA</th>\n      <th>AvgCAHH</th>\n      <th>AvgCAHA</th>\n    </tr>\n  </thead>\n  <tbody>\n    <tr>\n      <th>0</th>\n      <td>E0</td>\n      <td>09/08/2019</td>\n      <td>20:00</td>\n      <td>Liverpool</td>\n      <td>Norwich</td>\n      <td>4</td>\n      <td>1</td>\n      <td>H</td>\n      <td>4</td>\n      <td>0</td>\n      <td>H</td>\n      <td>M Oliver</td>\n      <td>15</td>\n      <td>12</td>\n      <td>7</td>\n      <td>5</td>\n      <td>9</td>\n      <td>9</td>\n      <td>11</td>\n      <td>2</td>\n      <td>0</td>\n      <td>2</td>\n      <td>0</td>\n      <td>0</td>\n      <td>1.14</td>\n      <td>10.00</td>\n      <td>19.00</td>\n      <td>1.14</td>\n      <td>8.25</td>\n      <td>18.50</td>\n      <td>1.15</td>\n      <td>8.00</td>\n      <td>18.00</td>\n      <td>1.15</td>\n      <td>9.59</td>\n      <td>18.05</td>\n      <td>1.12</td>\n      <td>8.5</td>\n      <td>21.00</td>\n      <td>1.14</td>\n      <td>9.5</td>\n      <td>23.00</td>\n      <td>1.16</td>\n      <td>10.00</td>\n      <td>23.00</td>\n      <td>1.14</td>\n      <td>8.75</td>\n      <td>19.83</td>\n      <td>1.40</td>\n      <td>3.00</td>\n      <td>1.40</td>\n      <td>3.11</td>\n      <td>1.45</td>\n      <td>3.11</td>\n      <td>1.41</td>\n      <td>2.92</td>\n      <td>-2.25</td>\n      <td>1.96</td>\n      <td>1.94</td>\n      <td>1.97</td>\n      <td>1.95</td>\n      <td>1.97</td>\n      <td>2.00</td>\n      <td>1.94</td>\n      <td>1.94</td>\n      <td>1.14</td>\n      <td>9.50</td>\n      <td>21.00</td>\n      <td>1.14</td>\n      <td>9.0</td>\n      <td>20.00</td>\n      <td>1.15</td>\n      <td>8.00</td>\n      <td>18.00</td>\n      <td>1.14</td>\n      <td>10.43</td>\n      <td>19.63</td>\n      <td>1.11</td>\n      <td>9.5</td>\n      <td>21.00</td>\n      <td>1.14</td>\n      <td>9.50</td>\n      <td>23.00</td>\n      <td>1.16</td>\n      <td>10.50</td>\n      <td>23.00</td>\n      <td>1.14</td>\n      <td>9.52</td>\n      <td>19.18</td>\n      <td>1.3</td>\n      <td>3.50</td>\n      <td>1.34</td>\n      <td>3.44</td>\n      <td>1.36</td>\n      <td>3.76</td>\n      <td>1.32</td>\n      <td>3.43</td>\n      <td>-2.25</td>\n      <td>1.91</td>\n      <td>1.99</td>\n      <td>1.94</td>\n      <td>1.98</td>\n      <td>1.99</td>\n      <td>2.07</td>\n      <td>1.90</td>\n      <td>1.99</td>\n    </tr>\n    <tr>\n      <th>1</th>\n      <td>E0</td>\n      <td>10/08/2019</td>\n      <td>12:30</td>\n      <td>West Ham</td>\n      <td>Man City</td>\n      <td>0</td>\n      <td>5</td>\n      <td>A</td>\n      <td>0</td>\n      <td>1</td>\n      <td>A</td>\n      <td>M Dean</td>\n      <td>5</td>\n      <td>14</td>\n      <td>3</td>\n      <td>9</td>\n      <td>6</td>\n      <td>13</td>\n      <td>1</td>\n      <td>1</td>\n      <td>2</td>\n      <td>2</td>\n      <td>0</td>\n      <td>0</td>\n      <td>12.00</td>\n      <td>6.50</td>\n      <td>1.22</td>\n      <td>11.50</td>\n      <td>5.75</td>\n      <td>1.26</td>\n      <td>11.00</td>\n      <td>6.10</td>\n      <td>1.25</td>\n      <td>11.68</td>\n      <td>6.53</td>\n      <td>1.26</td>\n      <td>13.00</td>\n      <td>6.0</td>\n      <td>1.24</td>\n      <td>12.00</td>\n      <td>6.5</td>\n      <td>1.25</td>\n      <td>13.00</td>\n      <td>6.75</td>\n      <td>1.29</td>\n      <td>11.84</td>\n      <td>6.28</td>\n      <td>1.25</td>\n      <td>1.44</td>\n      <td>2.75</td>\n      <td>1.49</td>\n      <td>2.77</td>\n      <td>1.51</td>\n      <td>2.77</td>\n      <td>1.48</td>\n      <td>2.65</td>\n      <td>1.75</td>\n      <td>2.00</td>\n      <td>1.90</td>\n      <td>2.02</td>\n      <td>1.90</td>\n      <td>2.02</td>\n      <td>1.92</td>\n      <td>1.99</td>\n      <td>1.89</td>\n      <td>12.00</td>\n      <td>7.00</td>\n      <td>1.25</td>\n      <td>11.00</td>\n      <td>6.0</td>\n      <td>1.26</td>\n      <td>11.00</td>\n      <td>6.10</td>\n      <td>1.25</td>\n      <td>11.11</td>\n      <td>6.68</td>\n      <td>1.27</td>\n      <td>11.00</td>\n      <td>6.5</td>\n      <td>1.24</td>\n      <td>12.00</td>\n      <td>6.50</td>\n      <td>1.25</td>\n      <td>13.00</td>\n      <td>7.00</td>\n      <td>1.29</td>\n      <td>11.14</td>\n      <td>6.46</td>\n      <td>1.26</td>\n      <td>1.4</td>\n      <td>3.00</td>\n      <td>1.43</td>\n      <td>3.03</td>\n      <td>1.50</td>\n      <td>3.22</td>\n      <td>1.41</td>\n      <td>2.91</td>\n      <td>1.75</td>\n      <td>1.95</td>\n      <td>1.95</td>\n      <td>1.96</td>\n      <td>1.97</td>\n      <td>2.07</td>\n      <td>1.98</td>\n      <td>1.97</td>\n      <td>1.92</td>\n    </tr>\n    <tr>\n      <th>2</th>\n      <td>E0</td>\n      <td>10/08/2019</td>\n      <td>15:00</td>\n      <td>Bournemouth</td>\n      <td>Sheffield United</td>\n      <td>1</td>\n      <td>1</td>\n      <td>D</td>\n      <td>0</td>\n      <td>0</td>\n      <td>D</td>\n      <td>K Friend</td>\n      <td>13</td>\n      <td>8</td>\n      <td>3</td>\n      <td>3</td>\n      <td>10</td>\n      <td>19</td>\n      <td>3</td>\n      <td>4</td>\n      <td>2</td>\n      <td>1</td>\n      <td>0</td>\n      <td>0</td>\n      <td>1.95</td>\n      <td>3.60</td>\n      <td>3.60</td>\n      <td>1.95</td>\n      <td>3.60</td>\n      <td>3.90</td>\n      <td>1.97</td>\n      <td>3.55</td>\n      <td>3.80</td>\n      <td>2.04</td>\n      <td>3.57</td>\n      <td>3.90</td>\n      <td>2.00</td>\n      <td>3.5</td>\n      <td>3.80</td>\n      <td>2.00</td>\n      <td>3.6</td>\n      <td>4.00</td>\n      <td>2.06</td>\n      <td>3.65</td>\n      <td>4.00</td>\n      <td>2.01</td>\n      <td>3.53</td>\n      <td>3.83</td>\n      <td>1.90</td>\n      <td>1.90</td>\n      <td>1.96</td>\n      <td>1.96</td>\n      <td>2.00</td>\n      <td>1.99</td>\n      <td>1.90</td>\n      <td>1.93</td>\n      <td>-0.50</td>\n      <td>2.01</td>\n      <td>1.89</td>\n      <td>2.04</td>\n      <td>1.88</td>\n      <td>2.04</td>\n      <td>1.91</td>\n      <td>2.00</td>\n      <td>1.88</td>\n      <td>1.95</td>\n      <td>3.70</td>\n      <td>4.20</td>\n      <td>1.95</td>\n      <td>3.6</td>\n      <td>3.90</td>\n      <td>1.97</td>\n      <td>3.55</td>\n      <td>3.85</td>\n      <td>1.98</td>\n      <td>3.67</td>\n      <td>4.06</td>\n      <td>1.95</td>\n      <td>3.6</td>\n      <td>3.90</td>\n      <td>2.00</td>\n      <td>3.60</td>\n      <td>4.00</td>\n      <td>2.03</td>\n      <td>3.70</td>\n      <td>4.20</td>\n      <td>1.98</td>\n      <td>3.58</td>\n      <td>3.96</td>\n      <td>1.9</td>\n      <td>1.90</td>\n      <td>1.94</td>\n      <td>1.97</td>\n      <td>1.97</td>\n      <td>1.98</td>\n      <td>1.91</td>\n      <td>1.92</td>\n      <td>-0.50</td>\n      <td>1.95</td>\n      <td>1.95</td>\n      <td>1.98</td>\n      <td>1.95</td>\n      <td>2.00</td>\n      <td>1.96</td>\n      <td>1.96</td>\n      <td>1.92</td>\n    </tr>\n    <tr>\n      <th>3</th>\n      <td>E0</td>\n      <td>10/08/2019</td>\n      <td>15:00</td>\n      <td>Burnley</td>\n      <td>Southampton</td>\n      <td>3</td>\n      <td>0</td>\n      <td>H</td>\n      <td>0</td>\n      <td>0</td>\n      <td>D</td>\n      <td>G Scott</td>\n      <td>10</td>\n      <td>11</td>\n      <td>4</td>\n      <td>3</td>\n      <td>6</td>\n      <td>12</td>\n      <td>2</td>\n      <td>7</td>\n      <td>0</td>\n      <td>0</td>\n      <td>0</td>\n      <td>0</td>\n      <td>2.62</td>\n      <td>3.20</td>\n      <td>2.75</td>\n      <td>2.65</td>\n      <td>3.20</td>\n      <td>2.75</td>\n      <td>2.65</td>\n      <td>3.20</td>\n      <td>2.75</td>\n      <td>2.71</td>\n      <td>3.31</td>\n      <td>2.81</td>\n      <td>2.70</td>\n      <td>3.2</td>\n      <td>2.75</td>\n      <td>2.70</td>\n      <td>3.3</td>\n      <td>2.80</td>\n      <td>2.80</td>\n      <td>3.33</td>\n      <td>2.85</td>\n      <td>2.68</td>\n      <td>3.22</td>\n      <td>2.78</td>\n      <td>2.10</td>\n      <td>1.72</td>\n      <td>2.17</td>\n      <td>1.77</td>\n      <td>2.20</td>\n      <td>1.78</td>\n      <td>2.12</td>\n      <td>1.73</td>\n      <td>0.00</td>\n      <td>1.92</td>\n      <td>1.98</td>\n      <td>1.93</td>\n      <td>2.00</td>\n      <td>1.94</td>\n      <td>2.00</td>\n      <td>1.91</td>\n      <td>1.98</td>\n      <td>2.70</td>\n      <td>3.25</td>\n      <td>2.90</td>\n      <td>2.65</td>\n      <td>3.1</td>\n      <td>2.85</td>\n      <td>2.60</td>\n      <td>3.20</td>\n      <td>2.85</td>\n      <td>2.71</td>\n      <td>3.19</td>\n      <td>2.90</td>\n      <td>2.62</td>\n      <td>3.2</td>\n      <td>2.80</td>\n      <td>2.70</td>\n      <td>3.25</td>\n      <td>2.90</td>\n      <td>2.72</td>\n      <td>3.26</td>\n      <td>2.95</td>\n      <td>2.65</td>\n      <td>3.18</td>\n      <td>2.88</td>\n      <td>2.1</td>\n      <td>1.72</td>\n      <td>2.19</td>\n      <td>1.76</td>\n      <td>2.25</td>\n      <td>1.78</td>\n      <td>2.17</td>\n      <td>1.71</td>\n      <td>0.00</td>\n      <td>1.87</td>\n      <td>2.03</td>\n      <td>1.89</td>\n      <td>2.03</td>\n      <td>1.90</td>\n      <td>2.07</td>\n      <td>1.86</td>\n      <td>2.02</td>\n    </tr>\n    <tr>\n      <th>4</th>\n      <td>E0</td>\n      <td>10/08/2019</td>\n      <td>15:00</td>\n      <td>Crystal Palace</td>\n      <td>Everton</td>\n      <td>0</td>\n      <td>0</td>\n      <td>D</td>\n      <td>0</td>\n      <td>0</td>\n      <td>D</td>\n      <td>J Moss</td>\n      <td>6</td>\n      <td>10</td>\n      <td>2</td>\n      <td>3</td>\n      <td>16</td>\n      <td>14</td>\n      <td>6</td>\n      <td>2</td>\n      <td>2</td>\n      <td>1</td>\n      <td>0</td>\n      <td>1</td>\n      <td>3.00</td>\n      <td>3.25</td>\n      <td>2.37</td>\n      <td>3.20</td>\n      <td>3.20</td>\n      <td>2.35</td>\n      <td>3.10</td>\n      <td>3.20</td>\n      <td>2.40</td>\n      <td>3.21</td>\n      <td>3.37</td>\n      <td>2.39</td>\n      <td>3.10</td>\n      <td>3.3</td>\n      <td>2.35</td>\n      <td>3.20</td>\n      <td>3.3</td>\n      <td>2.45</td>\n      <td>3.21</td>\n      <td>3.40</td>\n      <td>2.52</td>\n      <td>3.13</td>\n      <td>3.27</td>\n      <td>2.40</td>\n      <td>2.20</td>\n      <td>1.66</td>\n      <td>2.23</td>\n      <td>1.74</td>\n      <td>2.25</td>\n      <td>1.74</td>\n      <td>2.18</td>\n      <td>1.70</td>\n      <td>0.25</td>\n      <td>1.85</td>\n      <td>2.05</td>\n      <td>1.88</td>\n      <td>2.05</td>\n      <td>1.88</td>\n      <td>2.09</td>\n      <td>1.84</td>\n      <td>2.04</td>\n      <td>3.40</td>\n      <td>3.50</td>\n      <td>2.25</td>\n      <td>3.30</td>\n      <td>3.3</td>\n      <td>2.25</td>\n      <td>3.40</td>\n      <td>3.30</td>\n      <td>2.20</td>\n      <td>3.37</td>\n      <td>3.45</td>\n      <td>2.27</td>\n      <td>3.30</td>\n      <td>3.3</td>\n      <td>2.25</td>\n      <td>3.40</td>\n      <td>3.30</td>\n      <td>2.25</td>\n      <td>3.55</td>\n      <td>3.50</td>\n      <td>2.34</td>\n      <td>3.41</td>\n      <td>3.37</td>\n      <td>2.23</td>\n      <td>2.2</td>\n      <td>1.66</td>\n      <td>2.22</td>\n      <td>1.74</td>\n      <td>2.28</td>\n      <td>1.77</td>\n      <td>2.17</td>\n      <td>1.71</td>\n      <td>0.25</td>\n      <td>1.82</td>\n      <td>2.08</td>\n      <td>1.97</td>\n      <td>1.96</td>\n      <td>2.03</td>\n      <td>2.08</td>\n      <td>1.96</td>\n      <td>1.93</td>\n    </tr>\n  </tbody>\n</table>\n</div>"
     },
     "metadata": {},
     "execution_count": 18
    }
   ],
   "source": [
    "# Check odds\n",
    "fb_epl_1920.head()"
   ]
  },
  {
   "cell_type": "code",
   "execution_count": 19,
   "metadata": {},
   "outputs": [],
   "source": [
    "# 538 prem\n",
    "spi_1920prem = spi_data[(spi_data['season'] == 2019) & (spi_data['league'] == 'Barclays Premier League')]"
   ]
  },
  {
   "cell_type": "markdown",
   "metadata": {},
   "source": [
    "next steps:\n",
    "- [ ] figure out which columns in fbdata are odds\n",
    "- [ ] convert to win prob\n",
    "- [ ] merge with spidata\n",
    "- [ ] calculate edge\n",
    "- [ ] calculate outcomes\n",
    "- [ ] profit"
   ]
  },
  {
   "cell_type": "markdown",
   "metadata": {},
   "source": [
    "\n",
    "--------------------------------------------------------------------------------------------------------------------------------\n",
    "BUFFER\n",
    "\n",
    "--------------------------------------------------------------------------------------------------------------------------------"
   ]
  },
  {
   "cell_type": "code",
   "execution_count": null,
   "metadata": {},
   "outputs": [],
   "source": [
    "\n",
    "\n",
    "lookup_date = dt.date.today().strftime('%Y-%m-%d')\n",
    "\n",
    "matches_today = spi_data[spi_data['date'] == lookup_date]\n",
    "\n",
    "print(matches_today[['league', 'team1', 'team2']])\n",
    "\n",
    "for idx, match in matches_today.iterrows():\n",
    "    league = match['league']\n",
    "    match_day = match['date']\n",
    "    home_team = match['team1']\n",
    "    away_team = match['team2']\n",
    "    home_odds = match['prob1']\n",
    "    away_odds = match['prob2']\n",
    "    draw_odds = match['probtie']\n",
    "\n",
    "    print(F'On: {match_day} in {league}\\n'\n",
    "          F'{home_team} win probability: {home_odds}\\n'\n",
    "          F'{away_team} win probability: {away_odds}\\n'\n",
    "          F'Draw: {draw_odds}\\n')\n"
   ]
  }
 ]
}